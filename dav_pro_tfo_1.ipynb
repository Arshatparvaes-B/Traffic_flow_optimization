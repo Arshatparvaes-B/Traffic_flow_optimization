{
  "cells": [
    {
      "cell_type": "code",
      "source": [
        "!pip install seaborn"
      ],
      "metadata": {
        "colab": {
          "base_uri": "https://localhost:8080/"
        },
        "id": "uGeZkXPggB97",
        "outputId": "b89bcbff-73bf-4ab7-b5df-74ad61006bf8"
      },
      "execution_count": null,
      "outputs": [
        {
          "output_type": "stream",
          "name": "stdout",
          "text": [
            "Requirement already satisfied: seaborn in /usr/local/lib/python3.10/dist-packages (0.12.2)\n",
            "Requirement already satisfied: numpy!=1.24.0,>=1.17 in /usr/local/lib/python3.10/dist-packages (from seaborn) (1.23.5)\n",
            "Requirement already satisfied: pandas>=0.25 in /usr/local/lib/python3.10/dist-packages (from seaborn) (1.5.3)\n",
            "Requirement already satisfied: matplotlib!=3.6.1,>=3.1 in /usr/local/lib/python3.10/dist-packages (from seaborn) (3.7.1)\n",
            "Requirement already satisfied: contourpy>=1.0.1 in /usr/local/lib/python3.10/dist-packages (from matplotlib!=3.6.1,>=3.1->seaborn) (1.2.0)\n",
            "Requirement already satisfied: cycler>=0.10 in /usr/local/lib/python3.10/dist-packages (from matplotlib!=3.6.1,>=3.1->seaborn) (0.12.1)\n",
            "Requirement already satisfied: fonttools>=4.22.0 in /usr/local/lib/python3.10/dist-packages (from matplotlib!=3.6.1,>=3.1->seaborn) (4.44.0)\n",
            "Requirement already satisfied: kiwisolver>=1.0.1 in /usr/local/lib/python3.10/dist-packages (from matplotlib!=3.6.1,>=3.1->seaborn) (1.4.5)\n",
            "Requirement already satisfied: packaging>=20.0 in /usr/local/lib/python3.10/dist-packages (from matplotlib!=3.6.1,>=3.1->seaborn) (23.2)\n",
            "Requirement already satisfied: pillow>=6.2.0 in /usr/local/lib/python3.10/dist-packages (from matplotlib!=3.6.1,>=3.1->seaborn) (9.4.0)\n",
            "Requirement already satisfied: pyparsing>=2.3.1 in /usr/local/lib/python3.10/dist-packages (from matplotlib!=3.6.1,>=3.1->seaborn) (3.1.1)\n",
            "Requirement already satisfied: python-dateutil>=2.7 in /usr/local/lib/python3.10/dist-packages (from matplotlib!=3.6.1,>=3.1->seaborn) (2.8.2)\n",
            "Requirement already satisfied: pytz>=2020.1 in /usr/local/lib/python3.10/dist-packages (from pandas>=0.25->seaborn) (2023.3.post1)\n",
            "Requirement already satisfied: six>=1.5 in /usr/local/lib/python3.10/dist-packages (from python-dateutil>=2.7->matplotlib!=3.6.1,>=3.1->seaborn) (1.16.0)\n"
          ]
        }
      ]
    },
    {
      "cell_type": "code",
      "execution_count": null,
      "metadata": {
        "id": "XMvT166ov0f1",
        "colab": {
          "base_uri": "https://localhost:8080/",
          "height": 487
        },
        "outputId": "3709f445-66eb-4937-e8ec-fae0771e12df"
      },
      "outputs": [
        {
          "output_type": "display_data",
          "data": {
            "text/plain": [
              "<Figure size 1000x500 with 1 Axes>"
            ],
            "image/png": "[encoded data removed]"
          },
          "metadata": {}
        }
      ],
      "source": [
        "import numpy as np\n",
        "import pandas as pd\n",
        "import matplotlib.pyplot as plt\n",
        "import seaborn as sb\n",
        "import numpy as np\n",
        "\n",
        "\n",
        "\n",
        "# creating the dataset\n",
        "\n",
        "data = {'len 3':0.888, 'len 5':0.688, 'len 7':0.666,\n",
        "\n",
        "        'len 9':0.543}\n",
        "\n",
        "courses = list(data.keys())\n",
        "\n",
        "values = list(data.values())\n",
        "\n",
        "\n",
        "\n",
        "fig = plt.figure(figsize = (10, 5))\n",
        "\n",
        "# creating the bar plot\n",
        "\n",
        "plt.bar(courses, values, color ='skyblue',\n",
        "\n",
        "        width = 0.4)\n",
        "\n",
        "\n",
        "plt.xlabel(\"Query Length.\")\n",
        "\n",
        "plt.ylabel(\"Probability of Getting a Relevant Result\")\n",
        "\n",
        "plt.title(\"Probablity of Output\")\n",
        "plt.show()"
      ]
    },
    {
      "cell_type": "markdown",
      "metadata": {
        "id": "mtpjPiACv0f7"
      },
      "source": [
        "*Dataset*"
      ]
    },
    {
      "cell_type": "code",
      "execution_count": null,
      "metadata": {
        "colab": {
          "base_uri": "https://localhost:8080/"
        },
        "id": "UgNVcTRGv0f9",
        "outputId": "58883f7b-783a-457d-acb1-9d3d0bd0a6cb"
      },
      "outputs": [
        {
          "output_type": "stream",
          "name": "stdout",
          "text": [
            "             Place        DATE   TIME Roadway_Id Intersect_Rd  road_width  \\\n",
            "0    Thiruvanmiyur  18-01-2023  14:25        NaN           No          24   \n",
            "1         Mambalam  19-05-2023  12:05       R138          Yes          25   \n",
            "2          T Nagar  02-06-2023  17:20       R152          Yes          25   \n",
            "3    West Mambalam  20-05-2023  14:20       R139          Yes          26   \n",
            "4         Mylapore  08-01-2023  18:00       R008           No          26   \n",
            "..             ...         ...    ...        ...          ...         ...   \n",
            "165    Aminjikarai  12-04-2023  12:55        NaN          Yes          38   \n",
            "166   Besant Nagar  26-02-2023  14:05       R056          Yes          38   \n",
            "167   Nungambakkam  26-03-2023  08:10        NaN          Yes          39   \n",
            "168   Nungambakkam  29-05-2023  17:05        NaN          Yes          39   \n",
            "169      Chromepet  03-02-2023  11:30       R033            Y          39   \n",
            "\n",
            "     Latitude  Longitude  Locality School Rumble_Strips      Light Weather  \\\n",
            "0     12.9845    80.2615  Suburban    Yes             Y        Day   Rainy   \n",
            "1     13.0339    80.2223      City    Yes           Yes    Morning   Rainy   \n",
            "2     13.0392    80.2376      City    Yes           Yes    Morning   Sunny   \n",
            "3     13.0376    80.2208      City    Yes           Yes  Afternoon   Foggy   \n",
            "4     13.0339    80.2700      City     No            No      Night   Clear   \n",
            "..        ...        ...       ...    ...           ...        ...     ...   \n",
            "165   13.0721    80.2276      City    Yes            No    Morning   Rainy   \n",
            "166   13.0006    80.2669      City     No            No    Evening   Foggy   \n",
            "167   13.0588    80.2365      City    Yes           Yes        Day   Rainy   \n",
            "168   13.0588    80.2365      City    Yes           Yes    Morning   Rainy   \n",
            "169   12.9515    80.1436      City     No            No  Afternoon   Sunny   \n",
            "\n",
            "    dry_wet Rd_Junction Road_Char Collision_Type Traffic_Control  \\\n",
            "0       Dry       3-way     Urban      Left Turn      Yield Sign   \n",
            "1       Dry       2-way     Urban      Left Turn   Traffic Light   \n",
            "2       Dry       3-way     Urban      Left Turn   Traffic Light   \n",
            "3       Wet       3-way     Urban     Right Turn   Traffic Light   \n",
            "4       Wet       2-way     Urban       Rear-end       Stop Sign   \n",
            "..      ...         ...       ...            ...             ...   \n",
            "165     Dry       2-way     Urban     Right Turn       Stop Sign   \n",
            "166     Wet       2-way     Urban      Left Turn   Traffic Light   \n",
            "167     Dry       3-way     Urban      Left Turn       Stop Sign   \n",
            "168     Dry       3-way     Urban      Left Turn       Stop Sign   \n",
            "169     Dry       3-way     Urban     Right Turn   Traffic Light   \n",
            "\n",
            "     Traffic_Density  \n",
            "0                  1  \n",
            "1                  1  \n",
            "2                  1  \n",
            "3                  1  \n",
            "4                  1  \n",
            "..               ...  \n",
            "165                5  \n",
            "166                5  \n",
            "167                5  \n",
            "168                5  \n",
            "169                5  \n",
            "\n",
            "[170 rows x 19 columns]\n"
          ]
        }
      ],
      "source": [
        "df=pd.read_csv('traffic_dataset.csv', encoding='unicode_escape')\n",
        "print(df)"
      ]
    },
    {
      "cell_type": "markdown",
      "metadata": {
        "id": "OE-M59JSv0f_"
      },
      "source": [
        "*ROWS and COLUMNS*"
      ]
    },
    {
      "cell_type": "code",
      "execution_count": null,
      "metadata": {
        "colab": {
          "base_uri": "https://localhost:8080/",
          "height": 301
        },
        "id": "daNwjGI5v0gB",
        "outputId": "6906323a-ca5c-4b74-e0cd-c26659d6fa05"
      },
      "outputs": [
        {
          "output_type": "execute_result",
          "data": {
            "text/plain": [
              "       road_width    Latitude   Longitude  Traffic_Density\n",
              "count  170.000000  170.000000  170.000000       170.000000\n",
              "mean    31.594118   13.034358   80.226146         3.411765\n",
              "std      4.377859    0.078125    0.056866         1.123120\n",
              "min     24.000000   12.626900   79.703600         1.000000\n",
              "25%     28.000000   13.000600   80.217000         3.000000\n",
              "50%     32.000000   13.047600   80.228400         3.000000\n",
              "75%     35.000000   13.083300   80.255100         4.000000\n",
              "max     40.000000   13.221800   80.322600         5.000000"
            ],
            "text/html": [
              "\n",
              "  <div id=\"df-b995402a-f6d6-4802-bbb2-e89076a97159\" class=\"colab-df-container\">\n",
              "    <div>\n",
              "<style scoped>\n",
              "    .dataframe tbody tr th:only-of-type {\n",
              "        vertical-align: middle;\n",
              "    }\n",
              "\n",
              "    .dataframe tbody tr th {\n",
              "        vertical-align: top;\n",
              "    }\n",
              "\n",
              "    .dataframe thead th {\n",
              "        text-align: right;\n",
              "    }\n",
              "</style>\n",
              "<table border=\"1\" class=\"dataframe\">\n",
              "  <thead>\n",
              "    <tr style=\"text-align: right;\">\n",
              "      <th></th>\n",
              "      <th>road_width</th>\n",
              "      <th>Latitude</th>\n",
              "      <th>Longitude</th>\n",
              "      <th>Traffic_Density</th>\n",
              "    </tr>\n",
              "  </thead>\n",
              "  <tbody>\n",
              "    <tr>\n",
              "      <th>count</th>\n",
              "      <td>170.000000</td>\n",
              "      <td>170.000000</td>\n",
              "      <td>170.000000</td>\n",
              "      <td>170.000000</td>\n",
              "    </tr>\n",
              "    <tr>\n",
              "      <th>mean</th>\n",
              "      <td>31.594118</td>\n",
              "      <td>13.034358</td>\n",
              "      <td>80.226146</td>\n",
              "      <td>3.411765</td>\n",
              "    </tr>\n",
              "    <tr>\n",
              "      <th>std</th>\n",
              "      <td>4.377859</td>\n",
              "      <td>0.078125</td>\n",
              "      <td>0.056866</td>\n",
              "      <td>1.123120</td>\n",
              "    </tr>\n",
              "    <tr>\n",
              "      <th>min</th>\n",
              "      <td>24.000000</td>\n",
              "      <td>12.626900</td>\n",
              "      <td>79.703600</td>\n",
              "      <td>1.000000</td>\n",
              "    </tr>\n",
              "    <tr>\n",
              "      <th>25%</th>\n",
              "      <td>28.000000</td>\n",
              "      <td>13.000600</td>\n",
              "      <td>80.217000</td>\n",
              "      <td>3.000000</td>\n",
              "    </tr>\n",
              "    <tr>\n",
              "      <th>50%</th>\n",
              "      <td>32.000000</td>\n",
              "      <td>13.047600</td>\n",
              "      <td>80.228400</td>\n",
              "      <td>3.000000</td>\n",
              "    </tr>\n",
              "    <tr>\n",
              "      <th>75%</th>\n",
              "      <td>35.000000</td>\n",
              "      <td>13.083300</td>\n",
              "      <td>80.255100</td>\n",
              "      <td>4.000000</td>\n",
              "    </tr>\n",
              "    <tr>\n",
              "      <th>max</th>\n",
              "      <td>40.000000</td>\n",
              "      <td>13.221800</td>\n",
              "      <td>80.322600</td>\n",
              "      <td>5.000000</td>\n",
              "    </tr>\n",
              "  </tbody>\n",
              "</table>\n",
              "</div>\n",
              "    <div class=\"colab-df-buttons\">\n",
              "\n",
              "  <div class=\"colab-df-container\">\n",
              "    <button class=\"colab-df-convert\" onclick=\"convertToInteractive('df-b995402a-f6d6-4802-bbb2-e89076a97159')\"\n",
              "            title=\"Convert this dataframe to an interactive table.\"\n",
              "            style=\"display:none;\">\n",
              "\n",
              "  <svg xmlns=\"http://www.w3.org/2000/svg\" height=\"24px\" viewBox=\"0 -960 960 960\">\n",
              "    <path d=\"M120-120v-720h720v720H120Zm60-500h600v-160H180v160Zm220 220h160v-160H400v160Zm0 220h160v-160H400v160ZM180-400h160v-160H180v160Zm440 0h160v-160H620v160ZM180-180h160v-160H180v160Zm440 0h160v-160H620v160Z\"/>\n",
              "  </svg>\n",
              "    </button>\n",
              "\n",
              "  <style>\n",
              "    .colab-df-container {\n",
              "      display:flex;\n",
              "      gap: 12px;\n",
              "    }\n",
              "\n",
              "    .colab-df-convert {\n",
              "      background-color: #E8F0FE;\n",
              "      border: none;\n",
              "      border-radius: 50%;\n",
              "      cursor: pointer;\n",
              "      display: none;\n",
              "      fill: #1967D2;\n",
              "      height: 32px;\n",
              "      padding: 0 0 0 0;\n",
              "      width: 32px;\n",
              "    }\n",
              "\n",
              "    .colab-df-convert:hover {\n",
              "      background-color: #E2EBFA;\n",
              "      box-shadow: 0px 1px 2px rgba(60, 64, 67, 0.3), 0px 1px 3px 1px rgba(60, 64, 67, 0.15);\n",
              "      fill: #174EA6;\n",
              "    }\n",
              "\n",
              "    .colab-df-buttons div {\n",
              "      margin-bottom: 4px;\n",
              "    }\n",
              "\n",
              "    [theme=dark] .colab-df-convert {\n",
              "      background-color: #3B4455;\n",
              "      fill: #D2E3FC;\n",
              "    }\n",
              "\n",
              "    [theme=dark] .colab-df-convert:hover {\n",
              "      background-color: #434B5C;\n",
              "      box-shadow: 0px 1px 3px 1px rgba(0, 0, 0, 0.15);\n",
              "      filter: drop-shadow(0px 1px 2px rgba(0, 0, 0, 0.3));\n",
              "      fill: #FFFFFF;\n",
              "    }\n",
              "  </style>\n",
              "\n",
              "    <script>\n",
              "      const buttonEl =\n",
              "        document.querySelector('#df-b995402a-f6d6-4802-bbb2-e89076a97159 button.colab-df-convert');\n",
              "      buttonEl.style.display =\n",
              "        google.colab.kernel.accessAllowed ? 'block' : 'none';\n",
              "\n",
              "      async function convertToInteractive(key) {\n",
              "        const element = document.querySelector('#df-b995402a-f6d6-4802-bbb2-e89076a97159');\n",
              "        const dataTable =\n",
              "          await google.colab.kernel.invokeFunction('convertToInteractive',\n",
              "                                                    [key], {});\n",
              "        if (!dataTable) return;\n",
              "\n",
              "        const docLinkHtml = 'Like what you see? Visit the ' +\n",
              "          '<a target=\"_blank\" href=https://colab.research.google.com/notebooks/data_table.ipynb>data table notebook</a>'\n",
              "          + ' to learn more about interactive tables.';\n",
              "        element.innerHTML = '';\n",
              "        dataTable['output_type'] = 'display_data';\n",
              "        await google.colab.output.renderOutput(dataTable, element);\n",
              "        const docLink = document.createElement('div');\n",
              "        docLink.innerHTML = docLinkHtml;\n",
              "        element.appendChild(docLink);\n",
              "      }\n",
              "    </script>\n",
              "  </div>\n",
              "\n",
              "\n",
              "<div id=\"df-b868f68a-4f9a-4a04-9492-25b424d22d6a\">\n",
              "  <button class=\"colab-df-quickchart\" onclick=\"quickchart('df-b868f68a-4f9a-4a04-9492-25b424d22d6a')\"\n",
              "            title=\"Suggest charts\"\n",
              "            style=\"display:none;\">\n",
              "\n",
              "<svg xmlns=\"http://www.w3.org/2000/svg\" height=\"24px\"viewBox=\"0 0 24 24\"\n",
              "     width=\"24px\">\n",
              "    <g>\n",
              "        <path d=\"M19 3H5c-1.1 0-2 .9-2 2v14c0 1.1.9 2 2 2h14c1.1 0 2-.9 2-2V5c0-1.1-.9-2-2-2zM9 17H7v-7h2v7zm4 0h-2V7h2v10zm4 0h-2v-4h2v4z\"/>\n",
              "    </g>\n",
              "</svg>\n",
              "  </button>\n",
              "\n",
              "<style>\n",
              "  .colab-df-quickchart {\n",
              "      --bg-color: #E8F0FE;\n",
              "      --fill-color: #1967D2;\n",
              "      --hover-bg-color: #E2EBFA;\n",
              "      --hover-fill-color: #174EA6;\n",
              "      --disabled-fill-color: #AAA;\n",
              "      --disabled-bg-color: #DDD;\n",
              "  }\n",
              "\n",
              "  [theme=dark] .colab-df-quickchart {\n",
              "      --bg-color: #3B4455;\n",
              "      --fill-color: #D2E3FC;\n",
              "      --hover-bg-color: #434B5C;\n",
              "      --hover-fill-color: #FFFFFF;\n",
              "      --disabled-bg-color: #3B4455;\n",
              "      --disabled-fill-color: #666;\n",
              "  }\n",
              "\n",
              "  .colab-df-quickchart {\n",
              "    background-color: var(--bg-color);\n",
              "    border: none;\n",
              "    border-radius: 50%;\n",
              "    cursor: pointer;\n",
              "    display: none;\n",
              "    fill: var(--fill-color);\n",
              "    height: 32px;\n",
              "    padding: 0;\n",
              "    width: 32px;\n",
              "  }\n",
              "\n",
              "  .colab-df-quickchart:hover {\n",
              "    background-color: var(--hover-bg-color);\n",
              "    box-shadow: 0 1px 2px rgba(60, 64, 67, 0.3), 0 1px 3px 1px rgba(60, 64, 67, 0.15);\n",
              "    fill: var(--button-hover-fill-color);\n",
              "  }\n",
              "\n",
              "  .colab-df-quickchart-complete:disabled,\n",
              "  .colab-df-quickchart-complete:disabled:hover {\n",
              "    background-color: var(--disabled-bg-color);\n",
              "    fill: var(--disabled-fill-color);\n",
              "    box-shadow: none;\n",
              "  }\n",
              "\n",
              "  .colab-df-spinner {\n",
              "    border: 2px solid var(--fill-color);\n",
              "    border-color: transparent;\n",
              "    border-bottom-color: var(--fill-color);\n",
              "    animation:\n",
              "      spin 1s steps(1) infinite;\n",
              "  }\n",
              "\n",
              "  @keyframes spin {\n",
              "    0% {\n",
              "      border-color: transparent;\n",
              "      border-bottom-color: var(--fill-color);\n",
              "      border-left-color: var(--fill-color);\n",
              "    }\n",
              "    20% {\n",
              "      border-color: transparent;\n",
              "      border-left-color: var(--fill-color);\n",
              "      border-top-color: var(--fill-color);\n",
              "    }\n",
              "    30% {\n",
              "      border-color: transparent;\n",
              "      border-left-color: var(--fill-color);\n",
              "      border-top-color: var(--fill-color);\n",
              "      border-right-color: var(--fill-color);\n",
              "    }\n",
              "    40% {\n",
              "      border-color: transparent;\n",
              "      border-right-color: var(--fill-color);\n",
              "      border-top-color: var(--fill-color);\n",
              "    }\n",
              "    60% {\n",
              "      border-color: transparent;\n",
              "      border-right-color: var(--fill-color);\n",
              "    }\n",
              "    80% {\n",
              "      border-color: transparent;\n",
              "      border-right-color: var(--fill-color);\n",
              "      border-bottom-color: var(--fill-color);\n",
              "    }\n",
              "    90% {\n",
              "      border-color: transparent;\n",
              "      border-bottom-color: var(--fill-color);\n",
              "    }\n",
              "  }\n",
              "</style>\n",
              "\n",
              "  <script>\n",
              "    async function quickchart(key) {\n",
              "      const quickchartButtonEl =\n",
              "        document.querySelector('#' + key + ' button');\n",
              "      quickchartButtonEl.disabled = true;  // To prevent multiple clicks.\n",
              "      quickchartButtonEl.classList.add('colab-df-spinner');\n",
              "      try {\n",
              "        const charts = await google.colab.kernel.invokeFunction(\n",
              "            'suggestCharts', [key], {});\n",
              "      } catch (error) {\n",
              "        console.error('Error during call to suggestCharts:', error);\n",
              "      }\n",
              "      quickchartButtonEl.classList.remove('colab-df-spinner');\n",
              "      quickchartButtonEl.classList.add('colab-df-quickchart-complete');\n",
              "    }\n",
              "    (() => {\n",
              "      let quickchartButtonEl =\n",
              "        document.querySelector('#df-b868f68a-4f9a-4a04-9492-25b424d22d6a button');\n",
              "      quickchartButtonEl.style.display =\n",
              "        google.colab.kernel.accessAllowed ? 'block' : 'none';\n",
              "    })();\n",
              "  </script>\n",
              "</div>\n",
              "    </div>\n",
              "  </div>\n"
            ]
          },
          "metadata": {},
          "execution_count": 10
        }
      ],
      "source": [
        "df.describe()"
      ]
    },
    {
      "cell_type": "code",
      "execution_count": null,
      "metadata": {
        "colab": {
          "base_uri": "https://localhost:8080/",
          "height": 206
        },
        "id": "GXjfwLtrv0gC",
        "outputId": "e5ec0e99-d347-449d-854a-d4942a606273"
      },
      "outputs": [
        {
          "output_type": "execute_result",
          "data": {
            "text/plain": [
              "           Place        DATE   TIME Roadway_Id Intersect_Rd  road_width  \\\n",
              "0  Thiruvanmiyur  18-01-2023  14:25        NaN           No          24   \n",
              "1       Mambalam  19-05-2023  12:05       R138          Yes          25   \n",
              "2        T Nagar  02-06-2023  17:20       R152          Yes          25   \n",
              "3  West Mambalam  20-05-2023  14:20       R139          Yes          26   \n",
              "4       Mylapore  08-01-2023  18:00       R008           No          26   \n",
              "\n",
              "   Latitude  Longitude  Locality School Rumble_Strips      Light Weather  \\\n",
              "0   12.9845    80.2615  Suburban    Yes             Y        Day   Rainy   \n",
              "1   13.0339    80.2223      City    Yes           Yes    Morning   Rainy   \n",
              "2   13.0392    80.2376      City    Yes           Yes    Morning   Sunny   \n",
              "3   13.0376    80.2208      City    Yes           Yes  Afternoon   Foggy   \n",
              "4   13.0339    80.2700      City     No            No      Night   Clear   \n",
              "\n",
              "  dry_wet Rd_Junction Road_Char Collision_Type Traffic_Control  \\\n",
              "0     Dry       3-way     Urban      Left Turn      Yield Sign   \n",
              "1     Dry       2-way     Urban      Left Turn   Traffic Light   \n",
              "2     Dry       3-way     Urban      Left Turn   Traffic Light   \n",
              "3     Wet       3-way     Urban     Right Turn   Traffic Light   \n",
              "4     Wet       2-way     Urban       Rear-end       Stop Sign   \n",
              "\n",
              "   Traffic_Density  \n",
              "0                1  \n",
              "1                1  \n",
              "2                1  \n",
              "3                1  \n",
              "4                1  "
            ],
            "text/html": [
              "\n",
              "  <div id=\"df-7194e4c4-455e-47f9-8809-46011fe0e123\" class=\"colab-df-container\">\n",
              "    <div>\n",
              "<style scoped>\n",
              "    .dataframe tbody tr th:only-of-type {\n",
              "        vertical-align: middle;\n",
              "    }\n",
              "\n",
              "    .dataframe tbody tr th {\n",
              "        vertical-align: top;\n",
              "    }\n",
              "\n",
              "    .dataframe thead th {\n",
              "        text-align: right;\n",
              "    }\n",
              "</style>\n",
              "<table border=\"1\" class=\"dataframe\">\n",
              "  <thead>\n",
              "    <tr style=\"text-align: right;\">\n",
              "      <th></th>\n",
              "      <th>Place</th>\n",
              "      <th>DATE</th>\n",
              "      <th>TIME</th>\n",
              "      <th>Roadway_Id</th>\n",
              "      <th>Intersect_Rd</th>\n",
              "      <th>road_width</th>\n",
              "      <th>Latitude</th>\n",
              "      <th>Longitude</th>\n",
              "      <th>Locality</th>\n",
              "      <th>School</th>\n",
              "      <th>Rumble_Strips</th>\n",
              "      <th>Light</th>\n",
              "      <th>Weather</th>\n",
              "      <th>dry_wet</th>\n",
              "      <th>Rd_Junction</th>\n",
              "      <th>Road_Char</th>\n",
              "      <th>Collision_Type</th>\n",
              "      <th>Traffic_Control</th>\n",
              "      <th>Traffic_Density</th>\n",
              "    </tr>\n",
              "  </thead>\n",
              "  <tbody>\n",
              "    <tr>\n",
              "      <th>0</th>\n",
              "      <td>Thiruvanmiyur</td>\n",
              "      <td>18-01-2023</td>\n",
              "      <td>14:25</td>\n",
              "      <td>NaN</td>\n",
              "      <td>No</td>\n",
              "      <td>24</td>\n",
              "      <td>12.9845</td>\n",
              "      <td>80.2615</td>\n",
              "      <td>Suburban</td>\n",
              "      <td>Yes</td>\n",
              "      <td>Y</td>\n",
              "      <td>Day</td>\n",
              "      <td>Rainy</td>\n",
              "      <td>Dry</td>\n",
              "      <td>3-way</td>\n",
              "      <td>Urban</td>\n",
              "      <td>Left Turn</td>\n",
              "      <td>Yield Sign</td>\n",
              "      <td>1</td>\n",
              "    </tr>\n",
              "    <tr>\n",
              "      <th>1</th>\n",
              "      <td>Mambalam</td>\n",
              "      <td>19-05-2023</td>\n",
              "      <td>12:05</td>\n",
              "      <td>R138</td>\n",
              "      <td>Yes</td>\n",
              "      <td>25</td>\n",
              "      <td>13.0339</td>\n",
              "      <td>80.2223</td>\n",
              "      <td>City</td>\n",
              "      <td>Yes</td>\n",
              "      <td>Yes</td>\n",
              "      <td>Morning</td>\n",
              "      <td>Rainy</td>\n",
              "      <td>Dry</td>\n",
              "      <td>2-way</td>\n",
              "      <td>Urban</td>\n",
              "      <td>Left Turn</td>\n",
              "      <td>Traffic Light</td>\n",
              "      <td>1</td>\n",
              "    </tr>\n",
              "    <tr>\n",
              "      <th>2</th>\n",
              "      <td>T Nagar</td>\n",
              "      <td>02-06-2023</td>\n",
              "      <td>17:20</td>\n",
              "      <td>R152</td>\n",
              "      <td>Yes</td>\n",
              "      <td>25</td>\n",
              "      <td>13.0392</td>\n",
              "      <td>80.2376</td>\n",
              "      <td>City</td>\n",
              "      <td>Yes</td>\n",
              "      <td>Yes</td>\n",
              "      <td>Morning</td>\n",
              "      <td>Sunny</td>\n",
              "      <td>Dry</td>\n",
              "      <td>3-way</td>\n",
              "      <td>Urban</td>\n",
              "      <td>Left Turn</td>\n",
              "      <td>Traffic Light</td>\n",
              "      <td>1</td>\n",
              "    </tr>\n",
              "    <tr>\n",
              "      <th>3</th>\n",
              "      <td>West Mambalam</td>\n",
              "      <td>20-05-2023</td>\n",
              "      <td>14:20</td>\n",
              "      <td>R139</td>\n",
              "      <td>Yes</td>\n",
              "      <td>26</td>\n",
              "      <td>13.0376</td>\n",
              "      <td>80.2208</td>\n",
              "      <td>City</td>\n",
              "      <td>Yes</td>\n",
              "      <td>Yes</td>\n",
              "      <td>Afternoon</td>\n",
              "      <td>Foggy</td>\n",
              "      <td>Wet</td>\n",
              "      <td>3-way</td>\n",
              "      <td>Urban</td>\n",
              "      <td>Right Turn</td>\n",
              "      <td>Traffic Light</td>\n",
              "      <td>1</td>\n",
              "    </tr>\n",
              "    <tr>\n",
              "      <th>4</th>\n",
              "      <td>Mylapore</td>\n",
              "      <td>08-01-2023</td>\n",
              "      <td>18:00</td>\n",
              "      <td>R008</td>\n",
              "      <td>No</td>\n",
              "      <td>26</td>\n",
              "      <td>13.0339</td>\n",
              "      <td>80.2700</td>\n",
              "      <td>City</td>\n",
              "      <td>No</td>\n",
              "      <td>No</td>\n",
              "      <td>Night</td>\n",
              "      <td>Clear</td>\n",
              "      <td>Wet</td>\n",
              "      <td>2-way</td>\n",
              "      <td>Urban</td>\n",
              "      <td>Rear-end</td>\n",
              "      <td>Stop Sign</td>\n",
              "      <td>1</td>\n",
              "    </tr>\n",
              "  </tbody>\n",
              "</table>\n",
              "</div>\n",
              "    <div class=\"colab-df-buttons\">\n",
              "\n",
              "  <div class=\"colab-df-container\">\n",
              "    <button class=\"colab-df-convert\" onclick=\"convertToInteractive('df-7194e4c4-455e-47f9-8809-46011fe0e123')\"\n",
              "            title=\"Convert this dataframe to an interactive table.\"\n",
              "            style=\"display:none;\">\n",
              "\n",
              "  <svg xmlns=\"http://www.w3.org/2000/svg\" height=\"24px\" viewBox=\"0 -960 960 960\">\n",
              "    <path d=\"M120-120v-720h720v720H120Zm60-500h600v-160H180v160Zm220 220h160v-160H400v160Zm0 220h160v-160H400v160ZM180-400h160v-160H180v160Zm440 0h160v-160H620v160ZM180-180h160v-160H180v160Zm440 0h160v-160H620v160Z\"/>\n",
              "  </svg>\n",
              "    </button>\n",
              "\n",
              "  <style>\n",
              "    .colab-df-container {\n",
              "      display:flex;\n",
              "      gap: 12px;\n",
              "    }\n",
              "\n",
              "    .colab-df-convert {\n",
              "      background-color: #E8F0FE;\n",
              "      border: none;\n",
              "      border-radius: 50%;\n",
              "      cursor: pointer;\n",
              "      display: none;\n",
              "      fill: #1967D2;\n",
              "      height: 32px;\n",
              "      padding: 0 0 0 0;\n",
              "      width: 32px;\n",
              "    }\n",
              "\n",
              "    .colab-df-convert:hover {\n",
              "      background-color: #E2EBFA;\n",
              "      box-shadow: 0px 1px 2px rgba(60, 64, 67, 0.3), 0px 1px 3px 1px rgba(60, 64, 67, 0.15);\n",
              "      fill: #174EA6;\n",
              "    }\n",
              "\n",
              "    .colab-df-buttons div {\n",
              "      margin-bottom: 4px;\n",
              "    }\n",
              "\n",
              "    [theme=dark] .colab-df-convert {\n",
              "      background-color: #3B4455;\n",
              "      fill: #D2E3FC;\n",
              "    }\n",
              "\n",
              "    [theme=dark] .colab-df-convert:hover {\n",
              "      background-color: #434B5C;\n",
              "      box-shadow: 0px 1px 3px 1px rgba(0, 0, 0, 0.15);\n",
              "      filter: drop-shadow(0px 1px 2px rgba(0, 0, 0, 0.3));\n",
              "      fill: #FFFFFF;\n",
              "    }\n",
              "  </style>\n",
              "\n",
              "    <script>\n",
              "      const buttonEl =\n",
              "        document.querySelector('#df-7194e4c4-455e-47f9-8809-46011fe0e123 button.colab-df-convert');\n",
              "      buttonEl.style.display =\n",
              "        google.colab.kernel.accessAllowed ? 'block' : 'none';\n",
              "\n",
              "      async function convertToInteractive(key) {\n",
              "        const element = document.querySelector('#df-7194e4c4-455e-47f9-8809-46011fe0e123');\n",
              "        const dataTable =\n",
              "          await google.colab.kernel.invokeFunction('convertToInteractive',\n",
              "                                                    [key], {});\n",
              "        if (!dataTable) return;\n",
              "\n",
              "        const docLinkHtml = 'Like what you see? Visit the ' +\n",
              "          '<a target=\"_blank\" href=https://colab.research.google.com/notebooks/data_table.ipynb>data table notebook</a>'\n",
              "          + ' to learn more about interactive tables.';\n",
              "        element.innerHTML = '';\n",
              "        dataTable['output_type'] = 'display_data';\n",
              "        await google.colab.output.renderOutput(dataTable, element);\n",
              "        const docLink = document.createElement('div');\n",
              "        docLink.innerHTML = docLinkHtml;\n",
              "        element.appendChild(docLink);\n",
              "      }\n",
              "    </script>\n",
              "  </div>\n",
              "\n",
              "\n",
              "<div id=\"df-a2eb08ba-47a4-43a6-9c1f-38450d66a041\">\n",
              "  <button class=\"colab-df-quickchart\" onclick=\"quickchart('df-a2eb08ba-47a4-43a6-9c1f-38450d66a041')\"\n",
              "            title=\"Suggest charts\"\n",
              "            style=\"display:none;\">\n",
              "\n",
              "<svg xmlns=\"http://www.w3.org/2000/svg\" height=\"24px\"viewBox=\"0 0 24 24\"\n",
              "     width=\"24px\">\n",
              "    <g>\n",
              "        <path d=\"M19 3H5c-1.1 0-2 .9-2 2v14c0 1.1.9 2 2 2h14c1.1 0 2-.9 2-2V5c0-1.1-.9-2-2-2zM9 17H7v-7h2v7zm4 0h-2V7h2v10zm4 0h-2v-4h2v4z\"/>\n",
              "    </g>\n",
              "</svg>\n",
              "  </button>\n",
              "\n",
              "<style>\n",
              "  .colab-df-quickchart {\n",
              "      --bg-color: #E8F0FE;\n",
              "      --fill-color: #1967D2;\n",
              "      --hover-bg-color: #E2EBFA;\n",
              "      --hover-fill-color: #174EA6;\n",
              "      --disabled-fill-color: #AAA;\n",
              "      --disabled-bg-color: #DDD;\n",
              "  }\n",
              "\n",
              "  [theme=dark] .colab-df-quickchart {\n",
              "      --bg-color: #3B4455;\n",
              "      --fill-color: #D2E3FC;\n",
              "      --hover-bg-color: #434B5C;\n",
              "      --hover-fill-color: #FFFFFF;\n",
              "      --disabled-bg-color: #3B4455;\n",
              "      --disabled-fill-color: #666;\n",
              "  }\n",
              "\n",
              "  .colab-df-quickchart {\n",
              "    background-color: var(--bg-color);\n",
              "    border: none;\n",
              "    border-radius: 50%;\n",
              "    cursor: pointer;\n",
              "    display: none;\n",
              "    fill: var(--fill-color);\n",
              "    height: 32px;\n",
              "    padding: 0;\n",
              "    width: 32px;\n",
              "  }\n",
              "\n",
              "  .colab-df-quickchart:hover {\n",
              "    background-color: var(--hover-bg-color);\n",
              "    box-shadow: 0 1px 2px rgba(60, 64, 67, 0.3), 0 1px 3px 1px rgba(60, 64, 67, 0.15);\n",
              "    fill: var(--button-hover-fill-color);\n",
              "  }\n",
              "\n",
              "  .colab-df-quickchart-complete:disabled,\n",
              "  .colab-df-quickchart-complete:disabled:hover {\n",
              "    background-color: var(--disabled-bg-color);\n",
              "    fill: var(--disabled-fill-color);\n",
              "    box-shadow: none;\n",
              "  }\n",
              "\n",
              "  .colab-df-spinner {\n",
              "    border: 2px solid var(--fill-color);\n",
              "    border-color: transparent;\n",
              "    border-bottom-color: var(--fill-color);\n",
              "    animation:\n",
              "      spin 1s steps(1) infinite;\n",
              "  }\n",
              "\n",
              "  @keyframes spin {\n",
              "    0% {\n",
              "      border-color: transparent;\n",
              "      border-bottom-color: var(--fill-color);\n",
              "      border-left-color: var(--fill-color);\n",
              "    }\n",
              "    20% {\n",
              "      border-color: transparent;\n",
              "      border-left-color: var(--fill-color);\n",
              "      border-top-color: var(--fill-color);\n",
              "    }\n",
              "    30% {\n",
              "      border-color: transparent;\n",
              "      border-left-color: var(--fill-color);\n",
              "      border-top-color: var(--fill-color);\n",
              "      border-right-color: var(--fill-color);\n",
              "    }\n",
              "    40% {\n",
              "      border-color: transparent;\n",
              "      border-right-color: var(--fill-color);\n",
              "      border-top-color: var(--fill-color);\n",
              "    }\n",
              "    60% {\n",
              "      border-color: transparent;\n",
              "      border-right-color: var(--fill-color);\n",
              "    }\n",
              "    80% {\n",
              "      border-color: transparent;\n",
              "      border-right-color: var(--fill-color);\n",
              "      border-bottom-color: var(--fill-color);\n",
              "    }\n",
              "    90% {\n",
              "      border-color: transparent;\n",
              "      border-bottom-color: var(--fill-color);\n",
              "    }\n",
              "  }\n",
              "</style>\n",
              "\n",
              "  <script>\n",
              "    async function quickchart(key) {\n",
              "      const quickchartButtonEl =\n",
              "        document.querySelector('#' + key + ' button');\n",
              "      quickchartButtonEl.disabled = true;  // To prevent multiple clicks.\n",
              "      quickchartButtonEl.classList.add('colab-df-spinner');\n",
              "      try {\n",
              "        const charts = await google.colab.kernel.invokeFunction(\n",
              "            'suggestCharts', [key], {});\n",
              "      } catch (error) {\n",
              "        console.error('Error during call to suggestCharts:', error);\n",
              "      }\n",
              "      quickchartButtonEl.classList.remove('colab-df-spinner');\n",
              "      quickchartButtonEl.classList.add('colab-df-quickchart-complete');\n",
              "    }\n",
              "    (() => {\n",
              "      let quickchartButtonEl =\n",
              "        document.querySelector('#df-a2eb08ba-47a4-43a6-9c1f-38450d66a041 button');\n",
              "      quickchartButtonEl.style.display =\n",
              "        google.colab.kernel.accessAllowed ? 'block' : 'none';\n",
              "    })();\n",
              "  </script>\n",
              "</div>\n",
              "    </div>\n",
              "  </div>\n"
            ]
          },
          "metadata": {},
          "execution_count": 11
        }
      ],
      "source": [
        "df.head()"
      ]
    },
    {
      "cell_type": "markdown",
      "metadata": {
        "id": "ZmC6bDSDv0gC"
      },
      "source": [
        "**DATA CLEANING**"
      ]
    },
    {
      "cell_type": "code",
      "execution_count": null,
      "metadata": {
        "colab": {
          "base_uri": "https://localhost:8080/"
        },
        "id": "NA1aLhX9v0gD",
        "outputId": "7c6a9778-b9a4-40ac-eac3-dad057997286"
      },
      "outputs": [
        {
          "output_type": "stream",
          "name": "stdout",
          "text": [
            "<class 'pandas.core.frame.DataFrame'>\n",
            "RangeIndex: 170 entries, 0 to 169\n",
            "Data columns (total 19 columns):\n",
            " #   Column           Non-Null Count  Dtype  \n",
            "---  ------           --------------  -----  \n",
            " 0   Place            170 non-null    object \n",
            " 1   DATE             170 non-null    object \n",
            " 2   TIME             170 non-null    object \n",
            " 3   Roadway_Id       90 non-null     object \n",
            " 4   Intersect_Rd     170 non-null    object \n",
            " 5   road_width       170 non-null    int64  \n",
            " 6   Latitude         170 non-null    float64\n",
            " 7   Longitude        170 non-null    float64\n",
            " 8   Locality         170 non-null    object \n",
            " 9   School           170 non-null    object \n",
            " 10  Rumble_Strips    170 non-null    object \n",
            " 11  Light            170 non-null    object \n",
            " 12  Weather          170 non-null    object \n",
            " 13  dry_wet          170 non-null    object \n",
            " 14  Rd_Junction      170 non-null    object \n",
            " 15  Road_Char        170 non-null    object \n",
            " 16  Collision_Type   170 non-null    object \n",
            " 17  Traffic_Control  170 non-null    object \n",
            " 18  Traffic_Density  170 non-null    int64  \n",
            "dtypes: float64(2), int64(2), object(15)\n",
            "memory usage: 25.4+ KB\n"
          ]
        }
      ],
      "source": [
        "df.info()"
      ]
    },
    {
      "cell_type": "markdown",
      "metadata": {
        "id": "XGyDr3G5v0gE"
      },
      "source": [
        "Since there are many values missing in roadway_id....\n",
        "\n",
        "*Drop that column*\n"
      ]
    },
    {
      "cell_type": "code",
      "execution_count": null,
      "metadata": {
        "colab": {
          "base_uri": "https://localhost:8080/"
        },
        "id": "UjONmerfv0gF",
        "outputId": "57b475fb-5c07-4be1-eb69-05a699469dd9"
      },
      "outputs": [
        {
          "output_type": "stream",
          "name": "stdout",
          "text": [
            "Roadway_Id column removed\n"
          ]
        }
      ],
      "source": [
        "df.drop(['Roadway_Id'], axis=1 ,inplace=True)\n",
        "print(\"Roadway_Id column removed\")"
      ]
    },
    {
      "cell_type": "code",
      "execution_count": null,
      "metadata": {
        "colab": {
          "base_uri": "https://localhost:8080/"
        },
        "id": "ugwQa-vFv0gG",
        "outputId": "3651ddfd-cb5e-495a-803b-f4d9a9223e46"
      },
      "outputs": [
        {
          "output_type": "execute_result",
          "data": {
            "text/plain": [
              "(170, 18)"
            ]
          },
          "metadata": {},
          "execution_count": 14
        }
      ],
      "source": [
        "df.shape"
      ]
    },
    {
      "cell_type": "markdown",
      "metadata": {
        "id": "zkxHjBs8v0gH"
      },
      "source": [
        "Changing datatype"
      ]
    },
    {
      "cell_type": "code",
      "source": [
        "# Convert 'DATE' column to datetime\n",
        "df['DATE'] = pd.to_datetime(df['DATE'], format='%d-%m-%Y')\n",
        "\n",
        "# Split 'TIME' into hour and minute components and create a new 'TIME' column\n",
        "df['Hour'] = df['TIME'].apply(lambda x: int(x.split(':')[0]))\n",
        "df['Minute'] = df['TIME'].apply(lambda x: int(x.split(':')[1]))\n",
        "\n",
        "# Print the modified DataFrame with updated data types\n",
        "print(df.dtypes)\n",
        "# print(df)"
      ],
      "metadata": {
        "colab": {
          "base_uri": "https://localhost:8080/"
        },
        "id": "aMybzAL3yrNX",
        "outputId": "260fa8cf-f149-4bcb-cb2f-a2286b5884fa"
      },
      "execution_count": null,
      "outputs": [
        {
          "output_type": "stream",
          "name": "stdout",
          "text": [
            "Place                      object\n",
            "DATE               datetime64[ns]\n",
            "TIME                       object\n",
            "Intersect_Rd               object\n",
            "road_width                  int64\n",
            "Latitude                  float64\n",
            "Longitude                 float64\n",
            "Locality                   object\n",
            "School                     object\n",
            "Rumble_Strips              object\n",
            "Light                      object\n",
            "Weather                    object\n",
            "dry_wet                    object\n",
            "Rd_Junction                object\n",
            "Road_Char                  object\n",
            "Collision_Type             object\n",
            "Traffic_Control            object\n",
            "Traffic_Density             int64\n",
            "Hour                        int64\n",
            "Minute                      int64\n",
            "dtype: object\n"
          ]
        }
      ]
    },
    {
      "cell_type": "code",
      "execution_count": null,
      "metadata": {
        "colab": {
          "base_uri": "https://localhost:8080/"
        },
        "id": "j49Dd_1Iv0gH",
        "outputId": "aea933b6-31ec-4d5b-be13-b4ff466f7549"
      },
      "outputs": [
        {
          "output_type": "stream",
          "name": "stdout",
          "text": [
            "['No' 'Yes' 'YES' 'N' 'Y']\n"
          ]
        }
      ],
      "source": [
        "entries=df['Intersect_Rd'].unique()\n",
        "print(entries)"
      ]
    },
    {
      "cell_type": "markdown",
      "metadata": {
        "id": "Gs_7zK4Ov0gI"
      },
      "source": [
        " \"YES\", 'Y', 'N' are outlier here so it should be handled."
      ]
    },
    {
      "cell_type": "code",
      "execution_count": null,
      "metadata": {
        "colab": {
          "base_uri": "https://localhost:8080/",
          "height": 206
        },
        "id": "Sq3nROx3v0gI",
        "outputId": "af139012-cdba-4cf1-c78d-ea8e4626161c"
      },
      "outputs": [
        {
          "output_type": "execute_result",
          "data": {
            "text/plain": [
              "           Place       DATE   TIME Intersect_Rd  road_width  Latitude  \\\n",
              "0  Thiruvanmiyur 2023-01-18  14:25           No          24   12.9845   \n",
              "1       Mambalam 2023-05-19  12:05          Yes          25   13.0339   \n",
              "2        T Nagar 2023-06-02  17:20          Yes          25   13.0392   \n",
              "3  West Mambalam 2023-05-20  14:20          Yes          26   13.0376   \n",
              "4       Mylapore 2023-01-08  18:00           No          26   13.0339   \n",
              "\n",
              "   Longitude  Locality School Rumble_Strips      Light Weather dry_wet  \\\n",
              "0    80.2615  Suburban    Yes             Y        Day   Rainy     Dry   \n",
              "1    80.2223      City    Yes           Yes    Morning   Rainy     Dry   \n",
              "2    80.2376      City    Yes           Yes    Morning   Sunny     Dry   \n",
              "3    80.2208      City    Yes           Yes  Afternoon   Foggy     Wet   \n",
              "4    80.2700      City     No            No      Night   Clear     Wet   \n",
              "\n",
              "  Rd_Junction Road_Char Collision_Type Traffic_Control  Traffic_Density  Hour  \\\n",
              "0       3-way     Urban      Left Turn      Yield Sign                1    14   \n",
              "1       2-way     Urban      Left Turn   Traffic Light                1    12   \n",
              "2       3-way     Urban      Left Turn   Traffic Light                1    17   \n",
              "3       3-way     Urban     Right Turn   Traffic Light                1    14   \n",
              "4       2-way     Urban       Rear-end       Stop Sign                1    18   \n",
              "\n",
              "   Minute  \n",
              "0      25  \n",
              "1       5  \n",
              "2      20  \n",
              "3      20  \n",
              "4       0  "
            ],
            "text/html": [
              "\n",
              "  <div id=\"df-080cc236-becc-4a19-92b8-8f3f5b328f03\" class=\"colab-df-container\">\n",
              "    <div>\n",
              "<style scoped>\n",
              "    .dataframe tbody tr th:only-of-type {\n",
              "        vertical-align: middle;\n",
              "    }\n",
              "\n",
              "    .dataframe tbody tr th {\n",
              "        vertical-align: top;\n",
              "    }\n",
              "\n",
              "    .dataframe thead th {\n",
              "        text-align: right;\n",
              "    }\n",
              "</style>\n",
              "<table border=\"1\" class=\"dataframe\">\n",
              "  <thead>\n",
              "    <tr style=\"text-align: right;\">\n",
              "      <th></th>\n",
              "      <th>Place</th>\n",
              "      <th>DATE</th>\n",
              "      <th>TIME</th>\n",
              "      <th>Intersect_Rd</th>\n",
              "      <th>road_width</th>\n",
              "      <th>Latitude</th>\n",
              "      <th>Longitude</th>\n",
              "      <th>Locality</th>\n",
              "      <th>School</th>\n",
              "      <th>Rumble_Strips</th>\n",
              "      <th>Light</th>\n",
              "      <th>Weather</th>\n",
              "      <th>dry_wet</th>\n",
              "      <th>Rd_Junction</th>\n",
              "      <th>Road_Char</th>\n",
              "      <th>Collision_Type</th>\n",
              "      <th>Traffic_Control</th>\n",
              "      <th>Traffic_Density</th>\n",
              "      <th>Hour</th>\n",
              "      <th>Minute</th>\n",
              "    </tr>\n",
              "  </thead>\n",
              "  <tbody>\n",
              "    <tr>\n",
              "      <th>0</th>\n",
              "      <td>Thiruvanmiyur</td>\n",
              "      <td>2023-01-18</td>\n",
              "      <td>14:25</td>\n",
              "      <td>No</td>\n",
              "      <td>24</td>\n",
              "      <td>12.9845</td>\n",
              "      <td>80.2615</td>\n",
              "      <td>Suburban</td>\n",
              "      <td>Yes</td>\n",
              "      <td>Y</td>\n",
              "      <td>Day</td>\n",
              "      <td>Rainy</td>\n",
              "      <td>Dry</td>\n",
              "      <td>3-way</td>\n",
              "      <td>Urban</td>\n",
              "      <td>Left Turn</td>\n",
              "      <td>Yield Sign</td>\n",
              "      <td>1</td>\n",
              "      <td>14</td>\n",
              "      <td>25</td>\n",
              "    </tr>\n",
              "    <tr>\n",
              "      <th>1</th>\n",
              "      <td>Mambalam</td>\n",
              "      <td>2023-05-19</td>\n",
              "      <td>12:05</td>\n",
              "      <td>Yes</td>\n",
              "      <td>25</td>\n",
              "      <td>13.0339</td>\n",
              "      <td>80.2223</td>\n",
              "      <td>City</td>\n",
              "      <td>Yes</td>\n",
              "      <td>Yes</td>\n",
              "      <td>Morning</td>\n",
              "      <td>Rainy</td>\n",
              "      <td>Dry</td>\n",
              "      <td>2-way</td>\n",
              "      <td>Urban</td>\n",
              "      <td>Left Turn</td>\n",
              "      <td>Traffic Light</td>\n",
              "      <td>1</td>\n",
              "      <td>12</td>\n",
              "      <td>5</td>\n",
              "    </tr>\n",
              "    <tr>\n",
              "      <th>2</th>\n",
              "      <td>T Nagar</td>\n",
              "      <td>2023-06-02</td>\n",
              "      <td>17:20</td>\n",
              "      <td>Yes</td>\n",
              "      <td>25</td>\n",
              "      <td>13.0392</td>\n",
              "      <td>80.2376</td>\n",
              "      <td>City</td>\n",
              "      <td>Yes</td>\n",
              "      <td>Yes</td>\n",
              "      <td>Morning</td>\n",
              "      <td>Sunny</td>\n",
              "      <td>Dry</td>\n",
              "      <td>3-way</td>\n",
              "      <td>Urban</td>\n",
              "      <td>Left Turn</td>\n",
              "      <td>Traffic Light</td>\n",
              "      <td>1</td>\n",
              "      <td>17</td>\n",
              "      <td>20</td>\n",
              "    </tr>\n",
              "    <tr>\n",
              "      <th>3</th>\n",
              "      <td>West Mambalam</td>\n",
              "      <td>2023-05-20</td>\n",
              "      <td>14:20</td>\n",
              "      <td>Yes</td>\n",
              "      <td>26</td>\n",
              "      <td>13.0376</td>\n",
              "      <td>80.2208</td>\n",
              "      <td>City</td>\n",
              "      <td>Yes</td>\n",
              "      <td>Yes</td>\n",
              "      <td>Afternoon</td>\n",
              "      <td>Foggy</td>\n",
              "      <td>Wet</td>\n",
              "      <td>3-way</td>\n",
              "      <td>Urban</td>\n",
              "      <td>Right Turn</td>\n",
              "      <td>Traffic Light</td>\n",
              "      <td>1</td>\n",
              "      <td>14</td>\n",
              "      <td>20</td>\n",
              "    </tr>\n",
              "    <tr>\n",
              "      <th>4</th>\n",
              "      <td>Mylapore</td>\n",
              "      <td>2023-01-08</td>\n",
              "      <td>18:00</td>\n",
              "      <td>No</td>\n",
              "      <td>26</td>\n",
              "      <td>13.0339</td>\n",
              "      <td>80.2700</td>\n",
              "      <td>City</td>\n",
              "      <td>No</td>\n",
              "      <td>No</td>\n",
              "      <td>Night</td>\n",
              "      <td>Clear</td>\n",
              "      <td>Wet</td>\n",
              "      <td>2-way</td>\n",
              "      <td>Urban</td>\n",
              "      <td>Rear-end</td>\n",
              "      <td>Stop Sign</td>\n",
              "      <td>1</td>\n",
              "      <td>18</td>\n",
              "      <td>0</td>\n",
              "    </tr>\n",
              "  </tbody>\n",
              "</table>\n",
              "</div>\n",
              "    <div class=\"colab-df-buttons\">\n",
              "\n",
              "  <div class=\"colab-df-container\">\n",
              "    <button class=\"colab-df-convert\" onclick=\"convertToInteractive('df-080cc236-becc-4a19-92b8-8f3f5b328f03')\"\n",
              "            title=\"Convert this dataframe to an interactive table.\"\n",
              "            style=\"display:none;\">\n",
              "\n",
              "  <svg xmlns=\"http://www.w3.org/2000/svg\" height=\"24px\" viewBox=\"0 -960 960 960\">\n",
              "    <path d=\"M120-120v-720h720v720H120Zm60-500h600v-160H180v160Zm220 220h160v-160H400v160Zm0 220h160v-160H400v160ZM180-400h160v-160H180v160Zm440 0h160v-160H620v160ZM180-180h160v-160H180v160Zm440 0h160v-160H620v160Z\"/>\n",
              "  </svg>\n",
              "    </button>\n",
              "\n",
              "  <style>\n",
              "    .colab-df-container {\n",
              "      display:flex;\n",
              "      gap: 12px;\n",
              "    }\n",
              "\n",
              "    .colab-df-convert {\n",
              "      background-color: #E8F0FE;\n",
              "      border: none;\n",
              "      border-radius: 50%;\n",
              "      cursor: pointer;\n",
              "      display: none;\n",
              "      fill: #1967D2;\n",
              "      height: 32px;\n",
              "      padding: 0 0 0 0;\n",
              "      width: 32px;\n",
              "    }\n",
              "\n",
              "    .colab-df-convert:hover {\n",
              "      background-color: #E2EBFA;\n",
              "      box-shadow: 0px 1px 2px rgba(60, 64, 67, 0.3), 0px 1px 3px 1px rgba(60, 64, 67, 0.15);\n",
              "      fill: #174EA6;\n",
              "    }\n",
              "\n",
              "    .colab-df-buttons div {\n",
              "      margin-bottom: 4px;\n",
              "    }\n",
              "\n",
              "    [theme=dark] .colab-df-convert {\n",
              "      background-color: #3B4455;\n",
              "      fill: #D2E3FC;\n",
              "    }\n",
              "\n",
              "    [theme=dark] .colab-df-convert:hover {\n",
              "      background-color: #434B5C;\n",
              "      box-shadow: 0px 1px 3px 1px rgba(0, 0, 0, 0.15);\n",
              "      filter: drop-shadow(0px 1px 2px rgba(0, 0, 0, 0.3));\n",
              "      fill: #FFFFFF;\n",
              "    }\n",
              "  </style>\n",
              "\n",
              "    <script>\n",
              "      const buttonEl =\n",
              "        document.querySelector('#df-080cc236-becc-4a19-92b8-8f3f5b328f03 button.colab-df-convert');\n",
              "      buttonEl.style.display =\n",
              "        google.colab.kernel.accessAllowed ? 'block' : 'none';\n",
              "\n",
              "      async function convertToInteractive(key) {\n",
              "        const element = document.querySelector('#df-080cc236-becc-4a19-92b8-8f3f5b328f03');\n",
              "        const dataTable =\n",
              "          await google.colab.kernel.invokeFunction('convertToInteractive',\n",
              "                                                    [key], {});\n",
              "        if (!dataTable) return;\n",
              "\n",
              "        const docLinkHtml = 'Like what you see? Visit the ' +\n",
              "          '<a target=\"_blank\" href=https://colab.research.google.com/notebooks/data_table.ipynb>data table notebook</a>'\n",
              "          + ' to learn more about interactive tables.';\n",
              "        element.innerHTML = '';\n",
              "        dataTable['output_type'] = 'display_data';\n",
              "        await google.colab.output.renderOutput(dataTable, element);\n",
              "        const docLink = document.createElement('div');\n",
              "        docLink.innerHTML = docLinkHtml;\n",
              "        element.appendChild(docLink);\n",
              "      }\n",
              "    </script>\n",
              "  </div>\n",
              "\n",
              "\n",
              "<div id=\"df-39a29305-f0ac-41de-9735-7fe59e47846a\">\n",
              "  <button class=\"colab-df-quickchart\" onclick=\"quickchart('df-39a29305-f0ac-41de-9735-7fe59e47846a')\"\n",
              "            title=\"Suggest charts\"\n",
              "            style=\"display:none;\">\n",
              "\n",
              "<svg xmlns=\"http://www.w3.org/2000/svg\" height=\"24px\"viewBox=\"0 0 24 24\"\n",
              "     width=\"24px\">\n",
              "    <g>\n",
              "        <path d=\"M19 3H5c-1.1 0-2 .9-2 2v14c0 1.1.9 2 2 2h14c1.1 0 2-.9 2-2V5c0-1.1-.9-2-2-2zM9 17H7v-7h2v7zm4 0h-2V7h2v10zm4 0h-2v-4h2v4z\"/>\n",
              "    </g>\n",
              "</svg>\n",
              "  </button>\n",
              "\n",
              "<style>\n",
              "  .colab-df-quickchart {\n",
              "      --bg-color: #E8F0FE;\n",
              "      --fill-color: #1967D2;\n",
              "      --hover-bg-color: #E2EBFA;\n",
              "      --hover-fill-color: #174EA6;\n",
              "      --disabled-fill-color: #AAA;\n",
              "      --disabled-bg-color: #DDD;\n",
              "  }\n",
              "\n",
              "  [theme=dark] .colab-df-quickchart {\n",
              "      --bg-color: #3B4455;\n",
              "      --fill-color: #D2E3FC;\n",
              "      --hover-bg-color: #434B5C;\n",
              "      --hover-fill-color: #FFFFFF;\n",
              "      --disabled-bg-color: #3B4455;\n",
              "      --disabled-fill-color: #666;\n",
              "  }\n",
              "\n",
              "  .colab-df-quickchart {\n",
              "    background-color: var(--bg-color);\n",
              "    border: none;\n",
              "    border-radius: 50%;\n",
              "    cursor: pointer;\n",
              "    display: none;\n",
              "    fill: var(--fill-color);\n",
              "    height: 32px;\n",
              "    padding: 0;\n",
              "    width: 32px;\n",
              "  }\n",
              "\n",
              "  .colab-df-quickchart:hover {\n",
              "    background-color: var(--hover-bg-color);\n",
              "    box-shadow: 0 1px 2px rgba(60, 64, 67, 0.3), 0 1px 3px 1px rgba(60, 64, 67, 0.15);\n",
              "    fill: var(--button-hover-fill-color);\n",
              "  }\n",
              "\n",
              "  .colab-df-quickchart-complete:disabled,\n",
              "  .colab-df-quickchart-complete:disabled:hover {\n",
              "    background-color: var(--disabled-bg-color);\n",
              "    fill: var(--disabled-fill-color);\n",
              "    box-shadow: none;\n",
              "  }\n",
              "\n",
              "  .colab-df-spinner {\n",
              "    border: 2px solid var(--fill-color);\n",
              "    border-color: transparent;\n",
              "    border-bottom-color: var(--fill-color);\n",
              "    animation:\n",
              "      spin 1s steps(1) infinite;\n",
              "  }\n",
              "\n",
              "  @keyframes spin {\n",
              "    0% {\n",
              "      border-color: transparent;\n",
              "      border-bottom-color: var(--fill-color);\n",
              "      border-left-color: var(--fill-color);\n",
              "    }\n",
              "    20% {\n",
              "      border-color: transparent;\n",
              "      border-left-color: var(--fill-color);\n",
              "      border-top-color: var(--fill-color);\n",
              "    }\n",
              "    30% {\n",
              "      border-color: transparent;\n",
              "      border-left-color: var(--fill-color);\n",
              "      border-top-color: var(--fill-color);\n",
              "      border-right-color: var(--fill-color);\n",
              "    }\n",
              "    40% {\n",
              "      border-color: transparent;\n",
              "      border-right-color: var(--fill-color);\n",
              "      border-top-color: var(--fill-color);\n",
              "    }\n",
              "    60% {\n",
              "      border-color: transparent;\n",
              "      border-right-color: var(--fill-color);\n",
              "    }\n",
              "    80% {\n",
              "      border-color: transparent;\n",
              "      border-right-color: var(--fill-color);\n",
              "      border-bottom-color: var(--fill-color);\n",
              "    }\n",
              "    90% {\n",
              "      border-color: transparent;\n",
              "      border-bottom-color: var(--fill-color);\n",
              "    }\n",
              "  }\n",
              "</style>\n",
              "\n",
              "  <script>\n",
              "    async function quickchart(key) {\n",
              "      const quickchartButtonEl =\n",
              "        document.querySelector('#' + key + ' button');\n",
              "      quickchartButtonEl.disabled = true;  // To prevent multiple clicks.\n",
              "      quickchartButtonEl.classList.add('colab-df-spinner');\n",
              "      try {\n",
              "        const charts = await google.colab.kernel.invokeFunction(\n",
              "            'suggestCharts', [key], {});\n",
              "      } catch (error) {\n",
              "        console.error('Error during call to suggestCharts:', error);\n",
              "      }\n",
              "      quickchartButtonEl.classList.remove('colab-df-spinner');\n",
              "      quickchartButtonEl.classList.add('colab-df-quickchart-complete');\n",
              "    }\n",
              "    (() => {\n",
              "      let quickchartButtonEl =\n",
              "        document.querySelector('#df-39a29305-f0ac-41de-9735-7fe59e47846a button');\n",
              "      quickchartButtonEl.style.display =\n",
              "        google.colab.kernel.accessAllowed ? 'block' : 'none';\n",
              "    })();\n",
              "  </script>\n",
              "</div>\n",
              "    </div>\n",
              "  </div>\n"
            ]
          },
          "metadata": {},
          "execution_count": 17
        }
      ],
      "source": [
        "df.head()"
      ]
    },
    {
      "cell_type": "code",
      "source": [
        "df.replace({'Yes':1,'No':0, 'Y':1, 'N':0, \"YES\":1},inplace=True)\n",
        "df['dry_wet'] = df['dry_wet'].map({'Dry': 1, 'Wet': 0})\n",
        "print(df)"
      ],
      "metadata": {
        "colab": {
          "base_uri": "https://localhost:8080/"
        },
        "id": "SQHq82OMx_hG",
        "outputId": "5bd2a645-98a0-4cbc-d027-c9d8398b9804"
      },
      "execution_count": null,
      "outputs": [
        {
          "output_type": "stream",
          "name": "stdout",
          "text": [
            "             Place       DATE   TIME  Intersect_Rd  road_width  Latitude  \\\n",
            "0    Thiruvanmiyur 2023-01-18  14:25             0          24   12.9845   \n",
            "1         Mambalam 2023-05-19  12:05             1          25   13.0339   \n",
            "2          T Nagar 2023-06-02  17:20             1          25   13.0392   \n",
            "3    West Mambalam 2023-05-20  14:20             1          26   13.0376   \n",
            "4         Mylapore 2023-01-08  18:00             0          26   13.0339   \n",
            "..             ...        ...    ...           ...         ...       ...   \n",
            "165    Aminjikarai 2023-04-12  12:55             1          38   13.0721   \n",
            "166   Besant Nagar 2023-02-26  14:05             1          38   13.0006   \n",
            "167   Nungambakkam 2023-03-26  08:10             1          39   13.0588   \n",
            "168   Nungambakkam 2023-05-29  17:05             1          39   13.0588   \n",
            "169      Chromepet 2023-02-03  11:30             1          39   12.9515   \n",
            "\n",
            "     Longitude  Locality  School  Rumble_Strips      Light Weather  dry_wet  \\\n",
            "0      80.2615  Suburban       1              1        Day   Rainy        1   \n",
            "1      80.2223      City       1              1    Morning   Rainy        1   \n",
            "2      80.2376      City       1              1    Morning   Sunny        1   \n",
            "3      80.2208      City       1              1  Afternoon   Foggy        0   \n",
            "4      80.2700      City       0              0      Night   Clear        0   \n",
            "..         ...       ...     ...            ...        ...     ...      ...   \n",
            "165    80.2276      City       1              0    Morning   Rainy        1   \n",
            "166    80.2669      City       0              0    Evening   Foggy        0   \n",
            "167    80.2365      City       1              1        Day   Rainy        1   \n",
            "168    80.2365      City       1              1    Morning   Rainy        1   \n",
            "169    80.1436      City       0              0  Afternoon   Sunny        1   \n",
            "\n",
            "    Rd_Junction Road_Char Collision_Type Traffic_Control  Traffic_Density  \\\n",
            "0         3-way     Urban      Left Turn      Yield Sign                1   \n",
            "1         2-way     Urban      Left Turn   Traffic Light                1   \n",
            "2         3-way     Urban      Left Turn   Traffic Light                1   \n",
            "3         3-way     Urban     Right Turn   Traffic Light                1   \n",
            "4         2-way     Urban       Rear-end       Stop Sign                1   \n",
            "..          ...       ...            ...             ...              ...   \n",
            "165       2-way     Urban     Right Turn       Stop Sign                5   \n",
            "166       2-way     Urban      Left Turn   Traffic Light                5   \n",
            "167       3-way     Urban      Left Turn       Stop Sign                5   \n",
            "168       3-way     Urban      Left Turn       Stop Sign                5   \n",
            "169       3-way     Urban     Right Turn   Traffic Light                5   \n",
            "\n",
            "     Hour  Minute  \n",
            "0      14      25  \n",
            "1      12       5  \n",
            "2      17      20  \n",
            "3      14      20  \n",
            "4      18       0  \n",
            "..    ...     ...  \n",
            "165    12      55  \n",
            "166    14       5  \n",
            "167     8      10  \n",
            "168    17       5  \n",
            "169    11      30  \n",
            "\n",
            "[170 rows x 20 columns]\n"
          ]
        }
      ]
    },
    {
      "cell_type": "code",
      "source": [],
      "metadata": {
        "id": "gZiY2kDe1XHH"
      },
      "execution_count": null,
      "outputs": []
    },
    {
      "cell_type": "markdown",
      "source": [
        "**EDA - Exploratory Data Analysis**"
      ],
      "metadata": {
        "id": "-hCxtsJf1Iw_"
      }
    },
    {
      "cell_type": "code",
      "source": [
        "sb.histplot(df['Latitude'],kde=True)"
      ],
      "metadata": {
        "colab": {
          "base_uri": "https://localhost:8080/",
          "height": 466
        },
        "id": "uEgeELySyDkB",
        "outputId": "c68ea886-6096-4e9e-f462-46af7f6fdc2e"
      },
      "execution_count": null,
      "outputs": [
        {
          "output_type": "execute_result",
          "data": {
            "text/plain": [
              "<Axes: xlabel='Latitude', ylabel='Count'>"
            ]
          },
          "metadata": {},
          "execution_count": 19
        },
        {
          "output_type": "display_data",
          "data": {
            "text/plain": [
              "<Figure size 640x480 with 1 Axes>"
            ],
            "image/png": "[encoded data removed]"
          },
          "metadata": {}
        }
      ]
    },
    {
      "cell_type": "code",
      "source": [],
      "metadata": {
        "id": "8HbYa7i41GNd"
      },
      "execution_count": null,
      "outputs": []
    },
    {
      "cell_type": "markdown",
      "source": [
        "*5 point summary*"
      ],
      "metadata": {
        "id": "QPLNyg2Q1rLd"
      }
    },
    {
      "cell_type": "code",
      "source": [
        "summary = df.describe()\n",
        "print(summary)"
      ],
      "metadata": {
        "colab": {
          "base_uri": "https://localhost:8080/"
        },
        "id": "W39zB_Ou1dhd",
        "outputId": "4e17f289-b66a-46f7-b671-aa6ec9c1205f"
      },
      "execution_count": null,
      "outputs": [
        {
          "output_type": "stream",
          "name": "stdout",
          "text": [
            "       Intersect_Rd  road_width    Latitude   Longitude      School  \\\n",
            "count    170.000000  170.000000  170.000000  170.000000  170.000000   \n",
            "mean       0.670588   31.594118   13.034358   80.226146    0.594118   \n",
            "std        0.471388    4.377859    0.078125    0.056866    0.492513   \n",
            "min        0.000000   24.000000   12.626900   79.703600    0.000000   \n",
            "25%        0.000000   28.000000   13.000600   80.217000    0.000000   \n",
            "50%        1.000000   32.000000   13.047600   80.228400    1.000000   \n",
            "75%        1.000000   35.000000   13.083300   80.255100    1.000000   \n",
            "max        1.000000   40.000000   13.221800   80.322600    1.000000   \n",
            "\n",
            "       Rumble_Strips     dry_wet  Traffic_Density        Hour      Minute  \n",
            "count     170.000000  170.000000       170.000000  170.000000  170.000000  \n",
            "mean        0.676471    0.670588         3.411765   12.494118   28.764706  \n",
            "std         0.469205    0.471388         1.123120    3.048420   16.397537  \n",
            "min         0.000000    0.000000         1.000000    7.000000    0.000000  \n",
            "25%         0.000000    0.000000         3.000000   10.000000   15.000000  \n",
            "50%         1.000000    1.000000         3.000000   12.000000   30.000000  \n",
            "75%         1.000000    1.000000         4.000000   15.000000   40.000000  \n",
            "max         1.000000    1.000000         5.000000   18.000000   55.000000  \n"
          ]
        }
      ]
    },
    {
      "cell_type": "code",
      "source": [
        "pl = sb.countplot(data= df, x= 'Intersect_Rd')\n",
        "\n",
        "for bars in pl.containers:\n",
        "  pl.bar_label(bars)"
      ],
      "metadata": {
        "id": "AGwo-8BC3iOq",
        "colab": {
          "base_uri": "https://localhost:8080/",
          "height": 450
        },
        "outputId": "aab624f7-68d7-4cd1-ce0f-1cb8ffcf5bcc"
      },
      "execution_count": null,
      "outputs": [
        {
          "output_type": "display_data",
          "data": {
            "text/plain": [
              "<Figure size 640x480 with 1 Axes>"
            ],
            "image/png": "[encoded data removed]"
          },
          "metadata": {}
        }
      ]
    },
    {
      "cell_type": "markdown",
      "source": [
        "It is infered that most of the traffic occurs in the Intersection roads."
      ],
      "metadata": {
        "id": "26eIvjcq3yn2"
      }
    },
    {
      "cell_type": "code",
      "source": [
        "pl =sb.countplot(data= df, x= 'dry_wet')\n",
        "\n",
        "for bars in pl.containers:\n",
        "  pl.bar_label(bars)"
      ],
      "metadata": {
        "colab": {
          "base_uri": "https://localhost:8080/",
          "height": 450
        },
        "id": "FRxkJ0wm4LZi",
        "outputId": "b5610676-65b3-407f-b1ac-4f6428b07a6e"
      },
      "execution_count": null,
      "outputs": [
        {
          "output_type": "display_data",
          "data": {
            "text/plain": [
              "<Figure size 640x480 with 1 Axes>"
            ],
            "image/png": "[encoded data removed]"
          },
          "metadata": {}
        }
      ]
    },
    {
      "cell_type": "code",
      "source": [
        "pl =sb.countplot(data= df, x= 'Weather')\n",
        "\n",
        "for bars in pl.containers:\n",
        "  pl.bar_label(bars)"
      ],
      "metadata": {
        "id": "-hm3FxLG44JM",
        "colab": {
          "base_uri": "https://localhost:8080/",
          "height": 449
        },
        "outputId": "8dece364-7bb8-4961-a58c-5be3e34744f9"
      },
      "execution_count": null,
      "outputs": [
        {
          "output_type": "display_data",
          "data": {
            "text/plain": [
              "<Figure size 640x480 with 1 Axes>"
            ],
            "image/png": "[encoded data removed]"
          },
          "metadata": {}
        }
      ]
    },
    {
      "cell_type": "code",
      "source": [
        "import matplotlib.pyplot as plt\n",
        "\n",
        "# Assuming 'Latitude' and 'Longitude' are two features for the scatter plot\n",
        "plt.scatter(df['Latitude'], df['Longitude'], c=df['Traffic_Density'], cmap='viridis', alpha=0.5)\n",
        "plt.colorbar(label='Traffic Density')  # Add colorbar for density\n",
        "plt.title('Scatter Plot of Latitude and Longitude with Traffic Density')\n",
        "plt.xlabel('Latitude')\n",
        "plt.ylabel('Longitude')\n",
        "plt.show()\n",
        "\n"
      ],
      "metadata": {
        "colab": {
          "base_uri": "https://localhost:8080/",
          "height": 472
        },
        "id": "Jb14bipXLqqP",
        "outputId": "5bc99824-0579-4b6d-9ffa-c075ad3dbcea"
      },
      "execution_count": null,
      "outputs": [
        {
          "output_type": "display_data",
          "data": {
            "text/plain": [
              "<Figure size 640x480 with 2 Axes>"
            ],
            "image/png": "[encoded data removed]"
          },
          "metadata": {}
        }
      ]
    },
    {
      "cell_type": "code",
      "source": [
        "sb.histplot(df['Longitude'],kde=True)"
      ],
      "metadata": {
        "colab": {
          "base_uri": "https://localhost:8080/",
          "height": 469
        },
        "id": "gyLEi80tiX-s",
        "outputId": "98050c9a-60be-4ae0-aebc-62102ef825fe"
      },
      "execution_count": null,
      "outputs": [
        {
          "output_type": "execute_result",
          "data": {
            "text/plain": [
              "<Axes: xlabel='Longitude', ylabel='Count'>"
            ]
          },
          "metadata": {},
          "execution_count": 25
        },
        {
          "output_type": "display_data",
          "data": {
            "text/plain": [
              "<Figure size 640x480 with 1 Axes>"
            ],
            "image/png": "[encoded data removed]"
          },
          "metadata": {}
        }
      ]
    },
    {
      "cell_type": "markdown",
      "source": [
        "Road width"
      ],
      "metadata": {
        "id": "MSGl8UQ4jmze"
      }
    },
    {
      "cell_type": "code",
      "source": [
        "r=df['road_width'].describe()\n",
        "print(r)"
      ],
      "metadata": {
        "colab": {
          "base_uri": "https://localhost:8080/"
        },
        "id": "1hF_zqpsjpbI",
        "outputId": "2c0d72e0-4864-4cd2-cfba-d37b396f13ca"
      },
      "execution_count": null,
      "outputs": [
        {
          "output_type": "stream",
          "name": "stdout",
          "text": [
            "count    170.000000\n",
            "mean      31.594118\n",
            "std        4.377859\n",
            "min       24.000000\n",
            "25%       28.000000\n",
            "50%       32.000000\n",
            "75%       35.000000\n",
            "max       40.000000\n",
            "Name: road_width, dtype: float64\n"
          ]
        }
      ]
    },
    {
      "cell_type": "code",
      "source": [
        "sb.kdeplot(df['road_width'])"
      ],
      "metadata": {
        "colab": {
          "base_uri": "https://localhost:8080/",
          "height": 467
        },
        "id": "sMao0NbnjKf_",
        "outputId": "f8f0c996-cc38-43f0-fba5-db30a2d441fc"
      },
      "execution_count": null,
      "outputs": [
        {
          "output_type": "execute_result",
          "data": {
            "text/plain": [
              "<Axes: xlabel='road_width', ylabel='Density'>"
            ]
          },
          "metadata": {},
          "execution_count": 27
        },
        {
          "output_type": "display_data",
          "data": {
            "text/plain": [
              "<Figure size 640x480 with 1 Axes>"
            ],
            "image/png": "[encoded data removed]"
          },
          "metadata": {}
        }
      ]
    },
    {
      "cell_type": "code",
      "source": [],
      "metadata": {
        "id": "O_Xq1D9ri8Z4"
      },
      "execution_count": null,
      "outputs": []
    },
    {
      "cell_type": "markdown",
      "source": [
        "To find the skewness\n",
        "*  Positive value: Positively skewed -> Right skewed"
      ],
      "metadata": {
        "id": "1rUXly4Ti4x6"
      }
    },
    {
      "cell_type": "code",
      "source": [
        "print(df['road_width'].skew())"
      ],
      "metadata": {
        "colab": {
          "base_uri": "https://localhost:8080/"
        },
        "id": "QnnIMoNoj8ny",
        "outputId": "8882f3bc-68fd-43c2-8587-0cf78a1b2aa3"
      },
      "execution_count": null,
      "outputs": [
        {
          "output_type": "stream",
          "name": "stdout",
          "text": [
            "0.009299822790121828\n"
          ]
        }
      ]
    },
    {
      "cell_type": "markdown",
      "source": [
        "Correlation"
      ],
      "metadata": {
        "id": "ffo-2KrDkj_b"
      }
    },
    {
      "cell_type": "code",
      "source": [
        "df.corr()"
      ],
      "metadata": {
        "colab": {
          "base_uri": "https://localhost:8080/",
          "height": 398
        },
        "id": "Cz2ea75tkjBL",
        "outputId": "ba7cd8ee-95c9-4aee-c2ed-34dc9b58aca7"
      },
      "execution_count": null,
      "outputs": [
        {
          "output_type": "stream",
          "name": "stderr",
          "text": [
            "<ipython-input-29-2f6f6606aa2c>:1: FutureWarning: The default value of numeric_only in DataFrame.corr is deprecated. In a future version, it will default to False. Select only valid columns or specify the value of numeric_only to silence this warning.\n",
            "  df.corr()\n"
          ]
        },
        {
          "output_type": "execute_result",
          "data": {
            "text/plain": [
              "                 Intersect_Rd  road_width  Latitude  Longitude    School  \\\n",
              "Intersect_Rd         1.000000    0.422269  0.224792  -0.052226 -0.095051   \n",
              "road_width           0.422269    1.000000  0.164640   0.057339 -0.098812   \n",
              "Latitude             0.224792    0.164640  1.000000   0.443896  0.039048   \n",
              "Longitude           -0.052226    0.057339  0.443896   1.000000  0.274591   \n",
              "School              -0.095051   -0.098812  0.039048   0.274591  1.000000   \n",
              "Rumble_Strips       -0.003147   -0.211219 -0.003712   0.131808  0.529432   \n",
              "dry_wet              0.094612    0.075326 -0.163235   0.033178  0.006896   \n",
              "Traffic_Density      0.145953    0.188233 -0.103015  -0.047894 -0.038384   \n",
              "Hour                -0.079594   -0.013703  0.186764   0.067578  0.067370   \n",
              "Minute               0.073355    0.084057 -0.093258  -0.145845 -0.077104   \n",
              "\n",
              "                 Rumble_Strips   dry_wet  Traffic_Density      Hour    Minute  \n",
              "Intersect_Rd         -0.003147  0.094612         0.145953 -0.079594  0.073355  \n",
              "road_width           -0.211219  0.075326         0.188233 -0.013703  0.084057  \n",
              "Latitude             -0.003712 -0.163235        -0.103015  0.186764 -0.093258  \n",
              "Longitude             0.131808  0.033178        -0.047894  0.067578 -0.145845  \n",
              "School                0.529432  0.006896        -0.038384  0.067370 -0.077104  \n",
              "Rumble_Strips         1.000000 -0.003147        -0.003963  0.021415 -0.063789  \n",
              "dry_wet              -0.003147  1.000000         0.056540 -0.343130  0.004458  \n",
              "Traffic_Density      -0.003963  0.056540         1.000000 -0.061506  0.182006  \n",
              "Hour                  0.021415 -0.343130        -0.061506  1.000000 -0.117929  \n",
              "Minute               -0.063789  0.004458         0.182006 -0.117929  1.000000  "
            ],
            "text/html": [
              "\n",
              "  <div id=\"df-5f83f76a-cf35-4829-91db-87997c52d073\" class=\"colab-df-container\">\n",
              "    <div>\n",
              "<style scoped>\n",
              "    .dataframe tbody tr th:only-of-type {\n",
              "        vertical-align: middle;\n",
              "    }\n",
              "\n",
              "    .dataframe tbody tr th {\n",
              "        vertical-align: top;\n",
              "    }\n",
              "\n",
              "    .dataframe thead th {\n",
              "        text-align: right;\n",
              "    }\n",
              "</style>\n",
              "<table border=\"1\" class=\"dataframe\">\n",
              "  <thead>\n",
              "    <tr style=\"text-align: right;\">\n",
              "      <th></th>\n",
              "      <th>Intersect_Rd</th>\n",
              "      <th>road_width</th>\n",
              "      <th>Latitude</th>\n",
              "      <th>Longitude</th>\n",
              "      <th>School</th>\n",
              "      <th>Rumble_Strips</th>\n",
              "      <th>dry_wet</th>\n",
              "      <th>Traffic_Density</th>\n",
              "      <th>Hour</th>\n",
              "      <th>Minute</th>\n",
              "    </tr>\n",
              "  </thead>\n",
              "  <tbody>\n",
              "    <tr>\n",
              "      <th>Intersect_Rd</th>\n",
              "      <td>1.000000</td>\n",
              "      <td>0.422269</td>\n",
              "      <td>0.224792</td>\n",
              "      <td>-0.052226</td>\n",
              "      <td>-0.095051</td>\n",
              "      <td>-0.003147</td>\n",
              "      <td>0.094612</td>\n",
              "      <td>0.145953</td>\n",
              "      <td>-0.079594</td>\n",
              "      <td>0.073355</td>\n",
              "    </tr>\n",
              "    <tr>\n",
              "      <th>road_width</th>\n",
              "      <td>0.422269</td>\n",
              "      <td>1.000000</td>\n",
              "      <td>0.164640</td>\n",
              "      <td>0.057339</td>\n",
              "      <td>-0.098812</td>\n",
              "      <td>-0.211219</td>\n",
              "      <td>0.075326</td>\n",
              "      <td>0.188233</td>\n",
              "      <td>-0.013703</td>\n",
              "      <td>0.084057</td>\n",
              "    </tr>\n",
              "    <tr>\n",
              "      <th>Latitude</th>\n",
              "      <td>0.224792</td>\n",
              "      <td>0.164640</td>\n",
              "      <td>1.000000</td>\n",
              "      <td>0.443896</td>\n",
              "      <td>0.039048</td>\n",
              "      <td>-0.003712</td>\n",
              "      <td>-0.163235</td>\n",
              "      <td>-0.103015</td>\n",
              "      <td>0.186764</td>\n",
              "      <td>-0.093258</td>\n",
              "    </tr>\n",
              "    <tr>\n",
              "      <th>Longitude</th>\n",
              "      <td>-0.052226</td>\n",
              "      <td>0.057339</td>\n",
              "      <td>0.443896</td>\n",
              "      <td>1.000000</td>\n",
              "      <td>0.274591</td>\n",
              "      <td>0.131808</td>\n",
              "      <td>0.033178</td>\n",
              "      <td>-0.047894</td>\n",
              "      <td>0.067578</td>\n",
              "      <td>-0.145845</td>\n",
              "    </tr>\n",
              "    <tr>\n",
              "      <th>School</th>\n",
              "      <td>-0.095051</td>\n",
              "      <td>-0.098812</td>\n",
              "      <td>0.039048</td>\n",
              "      <td>0.274591</td>\n",
              "      <td>1.000000</td>\n",
              "      <td>0.529432</td>\n",
              "      <td>0.006896</td>\n",
              "      <td>-0.038384</td>\n",
              "      <td>0.067370</td>\n",
              "      <td>-0.077104</td>\n",
              "    </tr>\n",
              "    <tr>\n",
              "      <th>Rumble_Strips</th>\n",
              "      <td>-0.003147</td>\n",
              "      <td>-0.211219</td>\n",
              "      <td>-0.003712</td>\n",
              "      <td>0.131808</td>\n",
              "      <td>0.529432</td>\n",
              "      <td>1.000000</td>\n",
              "      <td>-0.003147</td>\n",
              "      <td>-0.003963</td>\n",
              "      <td>0.021415</td>\n",
              "      <td>-0.063789</td>\n",
              "    </tr>\n",
              "    <tr>\n",
              "      <th>dry_wet</th>\n",
              "      <td>0.094612</td>\n",
              "      <td>0.075326</td>\n",
              "      <td>-0.163235</td>\n",
              "      <td>0.033178</td>\n",
              "      <td>0.006896</td>\n",
              "      <td>-0.003147</td>\n",
              "      <td>1.000000</td>\n",
              "      <td>0.056540</td>\n",
              "      <td>-0.343130</td>\n",
              "      <td>0.004458</td>\n",
              "    </tr>\n",
              "    <tr>\n",
              "      <th>Traffic_Density</th>\n",
              "      <td>0.145953</td>\n",
              "      <td>0.188233</td>\n",
              "      <td>-0.103015</td>\n",
              "      <td>-0.047894</td>\n",
              "      <td>-0.038384</td>\n",
              "      <td>-0.003963</td>\n",
              "      <td>0.056540</td>\n",
              "      <td>1.000000</td>\n",
              "      <td>-0.061506</td>\n",
              "      <td>0.182006</td>\n",
              "    </tr>\n",
              "    <tr>\n",
              "      <th>Hour</th>\n",
              "      <td>-0.079594</td>\n",
              "      <td>-0.013703</td>\n",
              "      <td>0.186764</td>\n",
              "      <td>0.067578</td>\n",
              "      <td>0.067370</td>\n",
              "      <td>0.021415</td>\n",
              "      <td>-0.343130</td>\n",
              "      <td>-0.061506</td>\n",
              "      <td>1.000000</td>\n",
              "      <td>-0.117929</td>\n",
              "    </tr>\n",
              "    <tr>\n",
              "      <th>Minute</th>\n",
              "      <td>0.073355</td>\n",
              "      <td>0.084057</td>\n",
              "      <td>-0.093258</td>\n",
              "      <td>-0.145845</td>\n",
              "      <td>-0.077104</td>\n",
              "      <td>-0.063789</td>\n",
              "      <td>0.004458</td>\n",
              "      <td>0.182006</td>\n",
              "      <td>-0.117929</td>\n",
              "      <td>1.000000</td>\n",
              "    </tr>\n",
              "  </tbody>\n",
              "</table>\n",
              "</div>\n",
              "    <div class=\"colab-df-buttons\">\n",
              "\n",
              "  <div class=\"colab-df-container\">\n",
              "    <button class=\"colab-df-convert\" onclick=\"convertToInteractive('df-5f83f76a-cf35-4829-91db-87997c52d073')\"\n",
              "            title=\"Convert this dataframe to an interactive table.\"\n",
              "            style=\"display:none;\">\n",
              "\n",
              "  <svg xmlns=\"http://www.w3.org/2000/svg\" height=\"24px\" viewBox=\"0 -960 960 960\">\n",
              "    <path d=\"M120-120v-720h720v720H120Zm60-500h600v-160H180v160Zm220 220h160v-160H400v160Zm0 220h160v-160H400v160ZM180-400h160v-160H180v160Zm440 0h160v-160H620v160ZM180-180h160v-160H180v160Zm440 0h160v-160H620v160Z\"/>\n",
              "  </svg>\n",
              "    </button>\n",
              "\n",
              "  <style>\n",
              "    .colab-df-container {\n",
              "      display:flex;\n",
              "      gap: 12px;\n",
              "    }\n",
              "\n",
              "    .colab-df-convert {\n",
              "      background-color: #E8F0FE;\n",
              "      border: none;\n",
              "      border-radius: 50%;\n",
              "      cursor: pointer;\n",
              "      display: none;\n",
              "      fill: #1967D2;\n",
              "      height: 32px;\n",
              "      padding: 0 0 0 0;\n",
              "      width: 32px;\n",
              "    }\n",
              "\n",
              "    .colab-df-convert:hover {\n",
              "      background-color: #E2EBFA;\n",
              "      box-shadow: 0px 1px 2px rgba(60, 64, 67, 0.3), 0px 1px 3px 1px rgba(60, 64, 67, 0.15);\n",
              "      fill: #174EA6;\n",
              "    }\n",
              "\n",
              "    .colab-df-buttons div {\n",
              "      margin-bottom: 4px;\n",
              "    }\n",
              "\n",
              "    [theme=dark] .colab-df-convert {\n",
              "      background-color: #3B4455;\n",
              "      fill: #D2E3FC;\n",
              "    }\n",
              "\n",
              "    [theme=dark] .colab-df-convert:hover {\n",
              "      background-color: #434B5C;\n",
              "      box-shadow: 0px 1px 3px 1px rgba(0, 0, 0, 0.15);\n",
              "      filter: drop-shadow(0px 1px 2px rgba(0, 0, 0, 0.3));\n",
              "      fill: #FFFFFF;\n",
              "    }\n",
              "  </style>\n",
              "\n",
              "    <script>\n",
              "      const buttonEl =\n",
              "        document.querySelector('#df-5f83f76a-cf35-4829-91db-87997c52d073 button.colab-df-convert');\n",
              "      buttonEl.style.display =\n",
              "        google.colab.kernel.accessAllowed ? 'block' : 'none';\n",
              "\n",
              "      async function convertToInteractive(key) {\n",
              "        const element = document.querySelector('#df-5f83f76a-cf35-4829-91db-87997c52d073');\n",
              "        const dataTable =\n",
              "          await google.colab.kernel.invokeFunction('convertToInteractive',\n",
              "                                                    [key], {});\n",
              "        if (!dataTable) return;\n",
              "\n",
              "        const docLinkHtml = 'Like what you see? Visit the ' +\n",
              "          '<a target=\"_blank\" href=https://colab.research.google.com/notebooks/data_table.ipynb>data table notebook</a>'\n",
              "          + ' to learn more about interactive tables.';\n",
              "        element.innerHTML = '';\n",
              "        dataTable['output_type'] = 'display_data';\n",
              "        await google.colab.output.renderOutput(dataTable, element);\n",
              "        const docLink = document.createElement('div');\n",
              "        docLink.innerHTML = docLinkHtml;\n",
              "        element.appendChild(docLink);\n",
              "      }\n",
              "    </script>\n",
              "  </div>\n",
              "\n",
              "\n",
              "<div id=\"df-ddd70ef4-bd8a-4ed6-a6b0-c1b0a1507ec4\">\n",
              "  <button class=\"colab-df-quickchart\" onclick=\"quickchart('df-ddd70ef4-bd8a-4ed6-a6b0-c1b0a1507ec4')\"\n",
              "            title=\"Suggest charts\"\n",
              "            style=\"display:none;\">\n",
              "\n",
              "<svg xmlns=\"http://www.w3.org/2000/svg\" height=\"24px\"viewBox=\"0 0 24 24\"\n",
              "     width=\"24px\">\n",
              "    <g>\n",
              "        <path d=\"M19 3H5c-1.1 0-2 .9-2 2v14c0 1.1.9 2 2 2h14c1.1 0 2-.9 2-2V5c0-1.1-.9-2-2-2zM9 17H7v-7h2v7zm4 0h-2V7h2v10zm4 0h-2v-4h2v4z\"/>\n",
              "    </g>\n",
              "</svg>\n",
              "  </button>\n",
              "\n",
              "<style>\n",
              "  .colab-df-quickchart {\n",
              "      --bg-color: #E8F0FE;\n",
              "      --fill-color: #1967D2;\n",
              "      --hover-bg-color: #E2EBFA;\n",
              "      --hover-fill-color: #174EA6;\n",
              "      --disabled-fill-color: #AAA;\n",
              "      --disabled-bg-color: #DDD;\n",
              "  }\n",
              "\n",
              "  [theme=dark] .colab-df-quickchart {\n",
              "      --bg-color: #3B4455;\n",
              "      --fill-color: #D2E3FC;\n",
              "      --hover-bg-color: #434B5C;\n",
              "      --hover-fill-color: #FFFFFF;\n",
              "      --disabled-bg-color: #3B4455;\n",
              "      --disabled-fill-color: #666;\n",
              "  }\n",
              "\n",
              "  .colab-df-quickchart {\n",
              "    background-color: var(--bg-color);\n",
              "    border: none;\n",
              "    border-radius: 50%;\n",
              "    cursor: pointer;\n",
              "    display: none;\n",
              "    fill: var(--fill-color);\n",
              "    height: 32px;\n",
              "    padding: 0;\n",
              "    width: 32px;\n",
              "  }\n",
              "\n",
              "  .colab-df-quickchart:hover {\n",
              "    background-color: var(--hover-bg-color);\n",
              "    box-shadow: 0 1px 2px rgba(60, 64, 67, 0.3), 0 1px 3px 1px rgba(60, 64, 67, 0.15);\n",
              "    fill: var(--button-hover-fill-color);\n",
              "  }\n",
              "\n",
              "  .colab-df-quickchart-complete:disabled,\n",
              "  .colab-df-quickchart-complete:disabled:hover {\n",
              "    background-color: var(--disabled-bg-color);\n",
              "    fill: var(--disabled-fill-color);\n",
              "    box-shadow: none;\n",
              "  }\n",
              "\n",
              "  .colab-df-spinner {\n",
              "    border: 2px solid var(--fill-color);\n",
              "    border-color: transparent;\n",
              "    border-bottom-color: var(--fill-color);\n",
              "    animation:\n",
              "      spin 1s steps(1) infinite;\n",
              "  }\n",
              "\n",
              "  @keyframes spin {\n",
              "    0% {\n",
              "      border-color: transparent;\n",
              "      border-bottom-color: var(--fill-color);\n",
              "      border-left-color: var(--fill-color);\n",
              "    }\n",
              "    20% {\n",
              "      border-color: transparent;\n",
              "      border-left-color: var(--fill-color);\n",
              "      border-top-color: var(--fill-color);\n",
              "    }\n",
              "    30% {\n",
              "      border-color: transparent;\n",
              "      border-left-color: var(--fill-color);\n",
              "      border-top-color: var(--fill-color);\n",
              "      border-right-color: var(--fill-color);\n",
              "    }\n",
              "    40% {\n",
              "      border-color: transparent;\n",
              "      border-right-color: var(--fill-color);\n",
              "      border-top-color: var(--fill-color);\n",
              "    }\n",
              "    60% {\n",
              "      border-color: transparent;\n",
              "      border-right-color: var(--fill-color);\n",
              "    }\n",
              "    80% {\n",
              "      border-color: transparent;\n",
              "      border-right-color: var(--fill-color);\n",
              "      border-bottom-color: var(--fill-color);\n",
              "    }\n",
              "    90% {\n",
              "      border-color: transparent;\n",
              "      border-bottom-color: var(--fill-color);\n",
              "    }\n",
              "  }\n",
              "</style>\n",
              "\n",
              "  <script>\n",
              "    async function quickchart(key) {\n",
              "      const quickchartButtonEl =\n",
              "        document.querySelector('#' + key + ' button');\n",
              "      quickchartButtonEl.disabled = true;  // To prevent multiple clicks.\n",
              "      quickchartButtonEl.classList.add('colab-df-spinner');\n",
              "      try {\n",
              "        const charts = await google.colab.kernel.invokeFunction(\n",
              "            'suggestCharts', [key], {});\n",
              "      } catch (error) {\n",
              "        console.error('Error during call to suggestCharts:', error);\n",
              "      }\n",
              "      quickchartButtonEl.classList.remove('colab-df-spinner');\n",
              "      quickchartButtonEl.classList.add('colab-df-quickchart-complete');\n",
              "    }\n",
              "    (() => {\n",
              "      let quickchartButtonEl =\n",
              "        document.querySelector('#df-ddd70ef4-bd8a-4ed6-a6b0-c1b0a1507ec4 button');\n",
              "      quickchartButtonEl.style.display =\n",
              "        google.colab.kernel.accessAllowed ? 'block' : 'none';\n",
              "    })();\n",
              "  </script>\n",
              "</div>\n",
              "    </div>\n",
              "  </div>\n"
            ]
          },
          "metadata": {},
          "execution_count": 29
        }
      ]
    },
    {
      "cell_type": "code",
      "source": [
        "sb.heatmap(df.corr(), annot=True)"
      ],
      "metadata": {
        "colab": {
          "base_uri": "https://localhost:8080/",
          "height": 575
        },
        "id": "3jVefo-rk8dP",
        "outputId": "7366d15f-388f-4939-b424-4f48a8d260a9"
      },
      "execution_count": null,
      "outputs": [
        {
          "output_type": "stream",
          "name": "stderr",
          "text": [
            "<ipython-input-30-a4d6a5eb07b4>:1: FutureWarning: The default value of numeric_only in DataFrame.corr is deprecated. In a future version, it will default to False. Select only valid columns or specify the value of numeric_only to silence this warning.\n",
            "  sb.heatmap(df.corr(), annot=True)\n"
          ]
        },
        {
          "output_type": "execute_result",
          "data": {
            "text/plain": [
              "<Axes: >"
            ]
          },
          "metadata": {},
          "execution_count": 30
        },
        {
          "output_type": "display_data",
          "data": {
            "text/plain": [
              "<Figure size 640x480 with 2 Axes>"
            ],
            "image/png": "[encoded data removed]"
          },
          "metadata": {}
        }
      ]
    },
    {
      "cell_type": "markdown",
      "source": [
        "From this we can find that Presence of school is highly correlated with Rumble_strips"
      ],
      "metadata": {
        "id": "DeT1nOGUmvgs"
      }
    },
    {
      "cell_type": "markdown",
      "source": [
        "**Frequency distribution**"
      ],
      "metadata": {
        "id": "2jrzAW8eoP92"
      }
    },
    {
      "cell_type": "code",
      "source": [
        "df.Place.value_counts()"
      ],
      "metadata": {
        "colab": {
          "base_uri": "https://localhost:8080/"
        },
        "id": "YmFah89boNzv",
        "outputId": "8b2d6bf2-9cf2-4591-fafb-d2532a683b67"
      },
      "execution_count": null,
      "outputs": [
        {
          "output_type": "execute_result",
          "data": {
            "text/plain": [
              "Kilpauk           7\n",
              "Besant Nagar      6\n",
              "Neelankarai       6\n",
              "Kottivakkam       6\n",
              "Anna Nagar        5\n",
              "Kodambakkam       5\n",
              "Nolambur          5\n",
              "Mogappair         5\n",
              "Villivakkam       5\n",
              "Triplicane        5\n",
              "Mambalam          5\n",
              "Aminjikarai       5\n",
              "Korattur          5\n",
              "Vadapalani        5\n",
              "Pallikaranai      5\n",
              "T Nagar           5\n",
              "Teynampet         5\n",
              "Choolaimedu       5\n",
              "Ashok Nagar       5\n",
              "West Mambalam     5\n",
              "Perambur          5\n",
              "Madipakkam        4\n",
              "Nungambakkam      4\n",
              "Anna Salai        4\n",
              "Saidapet          4\n",
              "Thiruvottiyur     4\n",
              "Chromepet         4\n",
              "Thoraipakkam      4\n",
              "Purasawalkam      4\n",
              "Vepery            2\n",
              "Sowcarpet         2\n",
              "Chetpet           1\n",
              "Sholinganallur    1\n",
              "Adyar             1\n",
              "Kotturpuram       1\n",
              "Ambattur          1\n",
              "Tambaram          1\n",
              "Ennore            1\n",
              "Medavakkam        1\n",
              "Royapettah        1\n",
              "Koyambedu         1\n",
              "Alandur           1\n",
              "Thiruvanmiyur     1\n",
              "Virugambakkam     1\n",
              "Egmore            1\n",
              "Nanganallur       1\n",
              "Mahabalipuram     1\n",
              "Perungudi         1\n",
              "Kanchipuram       1\n",
              "Velachery         1\n",
              "Pallavaram        1\n",
              "Chengalpattu      1\n",
              "Porur             1\n",
              "Mylapore          1\n",
              "Guindy            1\n",
              "Name: Place, dtype: int64"
            ]
          },
          "metadata": {},
          "execution_count": 31
        }
      ]
    },
    {
      "cell_type": "markdown",
      "source": [
        "From this we can infer that Kilpauk is having more traffic areas"
      ],
      "metadata": {
        "id": "SNYEbBvAomJY"
      }
    },
    {
      "cell_type": "code",
      "source": [
        "df.info()"
      ],
      "metadata": {
        "colab": {
          "base_uri": "https://localhost:8080/"
        },
        "id": "fy3LB_eIpL3U",
        "outputId": "a597e135-c2b2-4398-dd74-fb5b596d99d6"
      },
      "execution_count": null,
      "outputs": [
        {
          "output_type": "stream",
          "name": "stdout",
          "text": [
            "<class 'pandas.core.frame.DataFrame'>\n",
            "RangeIndex: 170 entries, 0 to 169\n",
            "Data columns (total 20 columns):\n",
            " #   Column           Non-Null Count  Dtype         \n",
            "---  ------           --------------  -----         \n",
            " 0   Place            170 non-null    object        \n",
            " 1   DATE             170 non-null    datetime64[ns]\n",
            " 2   TIME             170 non-null    object        \n",
            " 3   Intersect_Rd     170 non-null    int64         \n",
            " 4   road_width       170 non-null    int64         \n",
            " 5   Latitude         170 non-null    float64       \n",
            " 6   Longitude        170 non-null    float64       \n",
            " 7   Locality         170 non-null    object        \n",
            " 8   School           170 non-null    int64         \n",
            " 9   Rumble_Strips    170 non-null    int64         \n",
            " 10  Light            170 non-null    object        \n",
            " 11  Weather          170 non-null    object        \n",
            " 12  dry_wet          170 non-null    int64         \n",
            " 13  Rd_Junction      170 non-null    object        \n",
            " 14  Road_Char        170 non-null    object        \n",
            " 15  Collision_Type   170 non-null    object        \n",
            " 16  Traffic_Control  170 non-null    object        \n",
            " 17  Traffic_Density  170 non-null    int64         \n",
            " 18  Hour             170 non-null    int64         \n",
            " 19  Minute           170 non-null    int64         \n",
            "dtypes: datetime64[ns](1), float64(2), int64(8), object(9)\n",
            "memory usage: 26.7+ KB\n"
          ]
        }
      ]
    },
    {
      "cell_type": "code",
      "source": [
        "df.Road_Char.value_counts()"
      ],
      "metadata": {
        "colab": {
          "base_uri": "https://localhost:8080/"
        },
        "id": "bi4GD8TPoyPj",
        "outputId": "99b0be42-25a6-40eb-f56e-036f9dd68e52"
      },
      "execution_count": null,
      "outputs": [
        {
          "output_type": "execute_result",
          "data": {
            "text/plain": [
              "Urban       159\n",
              "Rural         9\n",
              "Suburban      2\n",
              "Name: Road_Char, dtype: int64"
            ]
          },
          "metadata": {},
          "execution_count": 33
        }
      ]
    },
    {
      "cell_type": "markdown",
      "source": [
        "Urban Areas are suffering from lot of traffic"
      ],
      "metadata": {
        "id": "uBXCi3j7pbJ-"
      }
    },
    {
      "cell_type": "code",
      "source": [
        "df.Rd_Junction.value_counts()"
      ],
      "metadata": {
        "colab": {
          "base_uri": "https://localhost:8080/"
        },
        "id": "Ok1BPIripo2M",
        "outputId": "e9036cb6-18dd-4a47-df15-254f4c409624"
      },
      "execution_count": null,
      "outputs": [
        {
          "output_type": "execute_result",
          "data": {
            "text/plain": [
              "2-way    59\n",
              "3-way    57\n",
              "4-way    54\n",
              "Name: Rd_Junction, dtype: int64"
            ]
          },
          "metadata": {},
          "execution_count": 34
        }
      ]
    },
    {
      "cell_type": "code",
      "source": [
        "rel = pd.crosstab(index=df['Weather'],columns=df['Road_Char'])\n",
        "rel"
      ],
      "metadata": {
        "colab": {
          "base_uri": "https://localhost:8080/",
          "height": 206
        },
        "id": "bGfTvfDWqIuA",
        "outputId": "192c278a-3565-4ac0-d095-3a75e5a9849d"
      },
      "execution_count": null,
      "outputs": [
        {
          "output_type": "execute_result",
          "data": {
            "text/plain": [
              "Road_Char  Rural  Suburban  Urban\n",
              "Weather                          \n",
              "Clear          0         1      2\n",
              "Foggy          4         0     49\n",
              "Rainy          3         1     71\n",
              "Sunny          2         0     37"
            ],
            "text/html": [
              "\n",
              "  <div id=\"df-1529adb0-6a7f-454c-8bd6-88213031ac92\" class=\"colab-df-container\">\n",
              "    <div>\n",
              "<style scoped>\n",
              "    .dataframe tbody tr th:only-of-type {\n",
              "        vertical-align: middle;\n",
              "    }\n",
              "\n",
              "    .dataframe tbody tr th {\n",
              "        vertical-align: top;\n",
              "    }\n",
              "\n",
              "    .dataframe thead th {\n",
              "        text-align: right;\n",
              "    }\n",
              "</style>\n",
              "<table border=\"1\" class=\"dataframe\">\n",
              "  <thead>\n",
              "    <tr style=\"text-align: right;\">\n",
              "      <th>Road_Char</th>\n",
              "      <th>Rural</th>\n",
              "      <th>Suburban</th>\n",
              "      <th>Urban</th>\n",
              "    </tr>\n",
              "    <tr>\n",
              "      <th>Weather</th>\n",
              "      <th></th>\n",
              "      <th></th>\n",
              "      <th></th>\n",
              "    </tr>\n",
              "  </thead>\n",
              "  <tbody>\n",
              "    <tr>\n",
              "      <th>Clear</th>\n",
              "      <td>0</td>\n",
              "      <td>1</td>\n",
              "      <td>2</td>\n",
              "    </tr>\n",
              "    <tr>\n",
              "      <th>Foggy</th>\n",
              "      <td>4</td>\n",
              "      <td>0</td>\n",
              "      <td>49</td>\n",
              "    </tr>\n",
              "    <tr>\n",
              "      <th>Rainy</th>\n",
              "      <td>3</td>\n",
              "      <td>1</td>\n",
              "      <td>71</td>\n",
              "    </tr>\n",
              "    <tr>\n",
              "      <th>Sunny</th>\n",
              "      <td>2</td>\n",
              "      <td>0</td>\n",
              "      <td>37</td>\n",
              "    </tr>\n",
              "  </tbody>\n",
              "</table>\n",
              "</div>\n",
              "    <div class=\"colab-df-buttons\">\n",
              "\n",
              "  <div class=\"colab-df-container\">\n",
              "    <button class=\"colab-df-convert\" onclick=\"convertToInteractive('df-1529adb0-6a7f-454c-8bd6-88213031ac92')\"\n",
              "            title=\"Convert this dataframe to an interactive table.\"\n",
              "            style=\"display:none;\">\n",
              "\n",
              "  <svg xmlns=\"http://www.w3.org/2000/svg\" height=\"24px\" viewBox=\"0 -960 960 960\">\n",
              "    <path d=\"M120-120v-720h720v720H120Zm60-500h600v-160H180v160Zm220 220h160v-160H400v160Zm0 220h160v-160H400v160ZM180-400h160v-160H180v160Zm440 0h160v-160H620v160ZM180-180h160v-160H180v160Zm440 0h160v-160H620v160Z\"/>\n",
              "  </svg>\n",
              "    </button>\n",
              "\n",
              "  <style>\n",
              "    .colab-df-container {\n",
              "      display:flex;\n",
              "      gap: 12px;\n",
              "    }\n",
              "\n",
              "    .colab-df-convert {\n",
              "      background-color: #E8F0FE;\n",
              "      border: none;\n",
              "      border-radius: 50%;\n",
              "      cursor: pointer;\n",
              "      display: none;\n",
              "      fill: #1967D2;\n",
              "      height: 32px;\n",
              "      padding: 0 0 0 0;\n",
              "      width: 32px;\n",
              "    }\n",
              "\n",
              "    .colab-df-convert:hover {\n",
              "      background-color: #E2EBFA;\n",
              "      box-shadow: 0px 1px 2px rgba(60, 64, 67, 0.3), 0px 1px 3px 1px rgba(60, 64, 67, 0.15);\n",
              "      fill: #174EA6;\n",
              "    }\n",
              "\n",
              "    .colab-df-buttons div {\n",
              "      margin-bottom: 4px;\n",
              "    }\n",
              "\n",
              "    [theme=dark] .colab-df-convert {\n",
              "      background-color: #3B4455;\n",
              "      fill: #D2E3FC;\n",
              "    }\n",
              "\n",
              "    [theme=dark] .colab-df-convert:hover {\n",
              "      background-color: #434B5C;\n",
              "      box-shadow: 0px 1px 3px 1px rgba(0, 0, 0, 0.15);\n",
              "      filter: drop-shadow(0px 1px 2px rgba(0, 0, 0, 0.3));\n",
              "      fill: #FFFFFF;\n",
              "    }\n",
              "  </style>\n",
              "\n",
              "    <script>\n",
              "      const buttonEl =\n",
              "        document.querySelector('#df-1529adb0-6a7f-454c-8bd6-88213031ac92 button.colab-df-convert');\n",
              "      buttonEl.style.display =\n",
              "        google.colab.kernel.accessAllowed ? 'block' : 'none';\n",
              "\n",
              "      async function convertToInteractive(key) {\n",
              "        const element = document.querySelector('#df-1529adb0-6a7f-454c-8bd6-88213031ac92');\n",
              "        const dataTable =\n",
              "          await google.colab.kernel.invokeFunction('convertToInteractive',\n",
              "                                                    [key], {});\n",
              "        if (!dataTable) return;\n",
              "\n",
              "        const docLinkHtml = 'Like what you see? Visit the ' +\n",
              "          '<a target=\"_blank\" href=https://colab.research.google.com/notebooks/data_table.ipynb>data table notebook</a>'\n",
              "          + ' to learn more about interactive tables.';\n",
              "        element.innerHTML = '';\n",
              "        dataTable['output_type'] = 'display_data';\n",
              "        await google.colab.output.renderOutput(dataTable, element);\n",
              "        const docLink = document.createElement('div');\n",
              "        docLink.innerHTML = docLinkHtml;\n",
              "        element.appendChild(docLink);\n",
              "      }\n",
              "    </script>\n",
              "  </div>\n",
              "\n",
              "\n",
              "<div id=\"df-44ca8986-5b76-41f3-886c-455a25518ccc\">\n",
              "  <button class=\"colab-df-quickchart\" onclick=\"quickchart('df-44ca8986-5b76-41f3-886c-455a25518ccc')\"\n",
              "            title=\"Suggest charts\"\n",
              "            style=\"display:none;\">\n",
              "\n",
              "<svg xmlns=\"http://www.w3.org/2000/svg\" height=\"24px\"viewBox=\"0 0 24 24\"\n",
              "     width=\"24px\">\n",
              "    <g>\n",
              "        <path d=\"M19 3H5c-1.1 0-2 .9-2 2v14c0 1.1.9 2 2 2h14c1.1 0 2-.9 2-2V5c0-1.1-.9-2-2-2zM9 17H7v-7h2v7zm4 0h-2V7h2v10zm4 0h-2v-4h2v4z\"/>\n",
              "    </g>\n",
              "</svg>\n",
              "  </button>\n",
              "\n",
              "<style>\n",
              "  .colab-df-quickchart {\n",
              "      --bg-color: #E8F0FE;\n",
              "      --fill-color: #1967D2;\n",
              "      --hover-bg-color: #E2EBFA;\n",
              "      --hover-fill-color: #174EA6;\n",
              "      --disabled-fill-color: #AAA;\n",
              "      --disabled-bg-color: #DDD;\n",
              "  }\n",
              "\n",
              "  [theme=dark] .colab-df-quickchart {\n",
              "      --bg-color: #3B4455;\n",
              "      --fill-color: #D2E3FC;\n",
              "      --hover-bg-color: #434B5C;\n",
              "      --hover-fill-color: #FFFFFF;\n",
              "      --disabled-bg-color: #3B4455;\n",
              "      --disabled-fill-color: #666;\n",
              "  }\n",
              "\n",
              "  .colab-df-quickchart {\n",
              "    background-color: var(--bg-color);\n",
              "    border: none;\n",
              "    border-radius: 50%;\n",
              "    cursor: pointer;\n",
              "    display: none;\n",
              "    fill: var(--fill-color);\n",
              "    height: 32px;\n",
              "    padding: 0;\n",
              "    width: 32px;\n",
              "  }\n",
              "\n",
              "  .colab-df-quickchart:hover {\n",
              "    background-color: var(--hover-bg-color);\n",
              "    box-shadow: 0 1px 2px rgba(60, 64, 67, 0.3), 0 1px 3px 1px rgba(60, 64, 67, 0.15);\n",
              "    fill: var(--button-hover-fill-color);\n",
              "  }\n",
              "\n",
              "  .colab-df-quickchart-complete:disabled,\n",
              "  .colab-df-quickchart-complete:disabled:hover {\n",
              "    background-color: var(--disabled-bg-color);\n",
              "    fill: var(--disabled-fill-color);\n",
              "    box-shadow: none;\n",
              "  }\n",
              "\n",
              "  .colab-df-spinner {\n",
              "    border: 2px solid var(--fill-color);\n",
              "    border-color: transparent;\n",
              "    border-bottom-color: var(--fill-color);\n",
              "    animation:\n",
              "      spin 1s steps(1) infinite;\n",
              "  }\n",
              "\n",
              "  @keyframes spin {\n",
              "    0% {\n",
              "      border-color: transparent;\n",
              "      border-bottom-color: var(--fill-color);\n",
              "      border-left-color: var(--fill-color);\n",
              "    }\n",
              "    20% {\n",
              "      border-color: transparent;\n",
              "      border-left-color: var(--fill-color);\n",
              "      border-top-color: var(--fill-color);\n",
              "    }\n",
              "    30% {\n",
              "      border-color: transparent;\n",
              "      border-left-color: var(--fill-color);\n",
              "      border-top-color: var(--fill-color);\n",
              "      border-right-color: var(--fill-color);\n",
              "    }\n",
              "    40% {\n",
              "      border-color: transparent;\n",
              "      border-right-color: var(--fill-color);\n",
              "      border-top-color: var(--fill-color);\n",
              "    }\n",
              "    60% {\n",
              "      border-color: transparent;\n",
              "      border-right-color: var(--fill-color);\n",
              "    }\n",
              "    80% {\n",
              "      border-color: transparent;\n",
              "      border-right-color: var(--fill-color);\n",
              "      border-bottom-color: var(--fill-color);\n",
              "    }\n",
              "    90% {\n",
              "      border-color: transparent;\n",
              "      border-bottom-color: var(--fill-color);\n",
              "    }\n",
              "  }\n",
              "</style>\n",
              "\n",
              "  <script>\n",
              "    async function quickchart(key) {\n",
              "      const quickchartButtonEl =\n",
              "        document.querySelector('#' + key + ' button');\n",
              "      quickchartButtonEl.disabled = true;  // To prevent multiple clicks.\n",
              "      quickchartButtonEl.classList.add('colab-df-spinner');\n",
              "      try {\n",
              "        const charts = await google.colab.kernel.invokeFunction(\n",
              "            'suggestCharts', [key], {});\n",
              "      } catch (error) {\n",
              "        console.error('Error during call to suggestCharts:', error);\n",
              "      }\n",
              "      quickchartButtonEl.classList.remove('colab-df-spinner');\n",
              "      quickchartButtonEl.classList.add('colab-df-quickchart-complete');\n",
              "    }\n",
              "    (() => {\n",
              "      let quickchartButtonEl =\n",
              "        document.querySelector('#df-44ca8986-5b76-41f3-886c-455a25518ccc button');\n",
              "      quickchartButtonEl.style.display =\n",
              "        google.colab.kernel.accessAllowed ? 'block' : 'none';\n",
              "    })();\n",
              "  </script>\n",
              "</div>\n",
              "    </div>\n",
              "  </div>\n"
            ]
          },
          "metadata": {},
          "execution_count": 35
        }
      ]
    },
    {
      "cell_type": "markdown",
      "source": [
        "Urban roads during rainy season is getting more traffic and Clear weather has the least traffic"
      ],
      "metadata": {
        "id": "VdRECvO_qrQJ"
      }
    },
    {
      "cell_type": "markdown",
      "source": [
        "**Central Tendencies**"
      ],
      "metadata": {
        "id": "mPr93AcQcQLg"
      }
    },
    {
      "cell_type": "code",
      "source": [
        "mean_value = df.mean()\n",
        "print(mean_value)"
      ],
      "metadata": {
        "colab": {
          "base_uri": "https://localhost:8080/"
        },
        "id": "eagbFWCucPq2",
        "outputId": "69becc42-0a7f-481f-b6ef-28dbb773d28a"
      },
      "execution_count": null,
      "outputs": [
        {
          "output_type": "stream",
          "name": "stdout",
          "text": [
            "Intersect_Rd        0.670588\n",
            "road_width         31.594118\n",
            "Latitude           13.034358\n",
            "Longitude          80.226146\n",
            "School              0.594118\n",
            "Rumble_Strips       0.676471\n",
            "dry_wet             0.670588\n",
            "Traffic_Density     3.411765\n",
            "Hour               12.494118\n",
            "Minute             28.764706\n",
            "dtype: float64\n"
          ]
        },
        {
          "output_type": "stream",
          "name": "stderr",
          "text": [
            "<ipython-input-36-37e09929f551>:1: FutureWarning: DataFrame.mean and DataFrame.median with numeric_only=None will include datetime64 and datetime64tz columns in a future version.\n",
            "  mean_value = df.mean()\n",
            "<ipython-input-36-37e09929f551>:1: FutureWarning: The default value of numeric_only in DataFrame.mean is deprecated. In a future version, it will default to False. In addition, specifying 'numeric_only=None' is deprecated. Select only valid columns or specify the value of numeric_only to silence this warning.\n",
            "  mean_value = df.mean()\n"
          ]
        }
      ]
    },
    {
      "cell_type": "code",
      "source": [
        "median_value = df.median()\n",
        "print(median_value)"
      ],
      "metadata": {
        "colab": {
          "base_uri": "https://localhost:8080/"
        },
        "id": "--8dve_rc3vs",
        "outputId": "98cfcf0f-4b89-4e8f-ff60-27b419318d15"
      },
      "execution_count": null,
      "outputs": [
        {
          "output_type": "stream",
          "name": "stdout",
          "text": [
            "Intersect_Rd        1.0000\n",
            "road_width         32.0000\n",
            "Latitude           13.0476\n",
            "Longitude          80.2284\n",
            "School              1.0000\n",
            "Rumble_Strips       1.0000\n",
            "dry_wet             1.0000\n",
            "Traffic_Density     3.0000\n",
            "Hour               12.0000\n",
            "Minute             30.0000\n",
            "dtype: float64\n"
          ]
        },
        {
          "output_type": "stream",
          "name": "stderr",
          "text": [
            "<ipython-input-37-2587cccd5325>:1: FutureWarning: DataFrame.mean and DataFrame.median with numeric_only=None will include datetime64 and datetime64tz columns in a future version.\n",
            "  median_value = df.median()\n",
            "<ipython-input-37-2587cccd5325>:1: FutureWarning: The default value of numeric_only in DataFrame.median is deprecated. In a future version, it will default to False. In addition, specifying 'numeric_only=None' is deprecated. Select only valid columns or specify the value of numeric_only to silence this warning.\n",
            "  median_value = df.median()\n"
          ]
        }
      ]
    },
    {
      "cell_type": "code",
      "source": [
        "mode_value = df.mode().iloc[0]\n",
        "print(mode_value)"
      ],
      "metadata": {
        "colab": {
          "base_uri": "https://localhost:8080/"
        },
        "id": "BFgP6YBjdC1W",
        "outputId": "aa0cf9bd-8b69-4518-c36b-c7c24a2eaec7"
      },
      "execution_count": null,
      "outputs": [
        {
          "output_type": "stream",
          "name": "stdout",
          "text": [
            "Place                          Kilpauk\n",
            "DATE               2023-01-01 00:00:00\n",
            "TIME                             12:40\n",
            "Intersect_Rd                       1.0\n",
            "road_width                        32.0\n",
            "Latitude                       13.0833\n",
            "Longitude                      80.2404\n",
            "Locality                          City\n",
            "School                             1.0\n",
            "Rumble_Strips                      1.0\n",
            "Light                          Morning\n",
            "Weather                          Rainy\n",
            "dry_wet                            1.0\n",
            "Rd_Junction                      2-way\n",
            "Road_Char                        Urban\n",
            "Collision_Type                Rear-end\n",
            "Traffic_Control          Traffic Light\n",
            "Traffic_Density                    3.0\n",
            "Hour                               9.0\n",
            "Minute                            20.0\n",
            "Name: 0, dtype: object\n"
          ]
        }
      ]
    },
    {
      "cell_type": "code",
      "source": [
        "std_deviation = df.std()\n",
        "print(std_deviation)"
      ],
      "metadata": {
        "colab": {
          "base_uri": "https://localhost:8080/"
        },
        "id": "Ep-__5X7dRuH",
        "outputId": "7c8b4adf-a6ff-458c-beb0-60acfabf4e7c"
      },
      "execution_count": null,
      "outputs": [
        {
          "output_type": "stream",
          "name": "stdout",
          "text": [
            "DATE               49 days 11:19:57.806524709\n",
            "Intersect_Rd                         0.471388\n",
            "road_width                           4.377859\n",
            "Latitude                             0.078125\n",
            "Longitude                            0.056866\n",
            "School                               0.492513\n",
            "Rumble_Strips                        0.469205\n",
            "dry_wet                              0.471388\n",
            "Traffic_Density                       1.12312\n",
            "Hour                                  3.04842\n",
            "Minute                              16.397537\n",
            "dtype: object\n"
          ]
        },
        {
          "output_type": "stream",
          "name": "stderr",
          "text": [
            "<ipython-input-39-63a8bc0d0ce9>:1: FutureWarning: The default value of numeric_only in DataFrame.std is deprecated. In a future version, it will default to False. In addition, specifying 'numeric_only=None' is deprecated. Select only valid columns or specify the value of numeric_only to silence this warning.\n",
            "  std_deviation = df.std()\n"
          ]
        }
      ]
    },
    {
      "cell_type": "code",
      "source": [
        "mean_value = df['Traffic_Density'].mean()\n",
        "median_value = df['Traffic_Density'].median()\n",
        "mode_value = df['Traffic_Density'].mode()[0]\n",
        "\n",
        "print(f\"Mean: {mean_value}\")\n",
        "print(f\"Median: {median_value}\")\n",
        "print(f\"Mode: {mode_value}\")"
      ],
      "metadata": {
        "colab": {
          "base_uri": "https://localhost:8080/"
        },
        "id": "UwKvj-q6cRKZ",
        "outputId": "88cce513-6c8e-4431-8619-b452ffe4109c"
      },
      "execution_count": null,
      "outputs": [
        {
          "output_type": "stream",
          "name": "stdout",
          "text": [
            "Mean: 3.411764705882353\n",
            "Median: 3.0\n",
            "Mode: 3\n"
          ]
        }
      ]
    },
    {
      "cell_type": "markdown",
      "source": [
        "Discuss the implications of central tendency and variability measures on your model.\n"
      ],
      "metadata": {
        "id": "4E7W8yBCei5t"
      }
    },
    {
      "cell_type": "markdown",
      "source": [
        "Mean:\n",
        "\n",
        "Implication: The mean represents the average value of the dataset. It can be sensitive to outliers and extreme values.\n",
        "Impact on Model: Outliers can significantly affect the mean, influencing the model's understanding of the average behavior. Models using the mean might be skewed by outliers.\n",
        "\n",
        "Median:\n",
        "\n",
        "Implication: The median is the middle value when data is sorted. It's less sensitive to outliers.\n",
        "Impact on Model: Using the median can provide a more robust measure of central tendency, especially when the dataset contains outliers. Models based on the median are more robust against extreme values.\n",
        "\n",
        "Mode:\n",
        "\n",
        "Implication: The mode represents the most frequent value(s) in the dataset.\n",
        "Impact on Model: In some cases, identifying the mode can help in imputation or handling missing values. Models might consider the most frequent value as the representative value.\n",
        "\n",
        "Standard Deviation:\n",
        "\n",
        "Implication: Standard deviation measures the spread or dispersion of the data around the mean. Higher standard deviation implies more variability.\n",
        "Impact on Model: Models need to consider the variability to understand the spread of data points around the mean. Higher variability might indicate more uncertainty in predictions."
      ],
      "metadata": {
        "id": "2OUwVCudebLx"
      }
    },
    {
      "cell_type": "markdown",
      "source": [
        "To find whether **Normally distributed**."
      ],
      "metadata": {
        "id": "tRm-6rZ7-ial"
      }
    },
    {
      "cell_type": "code",
      "source": [
        "from scipy.stats import shapiro  # Shapiro-Wilk test\n",
        "from scipy.stats import probplot  # Q-Q plot\n",
        "from scipy.stats import normaltest"
      ],
      "metadata": {
        "id": "THK1LF5q-ns7"
      },
      "execution_count": null,
      "outputs": []
    },
    {
      "cell_type": "code",
      "source": [
        "plt.figure(figsize=(8, 5))\n",
        "sb.histplot(df['road_width'], kde=True, color='skyblue')\n",
        "plt.title('Histogram of road width')\n",
        "plt.xlabel('Road Width')\n",
        "plt.ylabel('Frequency')\n",
        "plt.show()"
      ],
      "metadata": {
        "colab": {
          "base_uri": "https://localhost:8080/",
          "height": 487
        },
        "id": "35n_LPNn-piD",
        "outputId": "748a870e-05d7-418f-9dd0-cda97fb1ef0f"
      },
      "execution_count": null,
      "outputs": [
        {
          "output_type": "display_data",
          "data": {
            "text/plain": [
              "<Figure size 800x500 with 1 Axes>"
            ],
            "image/png": "[encoded data removed]"
          },
          "metadata": {}
        }
      ]
    },
    {
      "cell_type": "code",
      "source": [
        "plt.figure(figsize=(6, 6))\n",
        "probplot(df['road_width'], dist=\"norm\", plot=plt)\n",
        "plt.title('Q-Q Plot')\n",
        "plt.xlabel('Theoretical Quantiles')\n",
        "plt.ylabel('Sample Quantiles')\n",
        "plt.show()"
      ],
      "metadata": {
        "colab": {
          "base_uri": "https://localhost:8080/",
          "height": 564
        },
        "id": "HLuO4hkI_MxK",
        "outputId": "252acebf-4133-403f-f4aa-bd2e45c168e6"
      },
      "execution_count": null,
      "outputs": [
        {
          "output_type": "display_data",
          "data": {
            "text/plain": [
              "<Figure size 600x600 with 1 Axes>"
            ],
            "image/png": "[encoded data removed]"
          },
          "metadata": {}
        }
      ]
    },
    {
      "cell_type": "code",
      "source": [
        "shapiro_test_stat, shapiro_p_value = shapiro(df['road_width'])\n",
        "print(f\"Shapiro-Wilk Test - Test Statistic: {shapiro_test_stat}, p-value: {shapiro_p_value}\")\n",
        "\n",
        "# D'Agostino and Pearson's test for normality\n",
        "k2_stat, k2_p_value = normaltest(df['road_width'])\n",
        "print(f\"D'Agostino and Pearson's Test - Test Statistic: {k2_stat}, p-value: {k2_p_value}\")\n"
      ],
      "metadata": {
        "colab": {
          "base_uri": "https://localhost:8080/"
        },
        "id": "7nBXp8iWAoT-",
        "outputId": "16281532-9f32-4a45-8682-35b42885cf8d"
      },
      "execution_count": null,
      "outputs": [
        {
          "output_type": "stream",
          "name": "stdout",
          "text": [
            "Shapiro-Wilk Test - Test Statistic: 0.9617128372192383, p-value: 0.00012872526713181287\n",
            "D'Agostino and Pearson's Test - Test Statistic: 34.63321152253822, p-value: 3.016432925201922e-08\n"
          ]
        }
      ]
    },
    {
      "cell_type": "code",
      "source": [
        "from scipy.stats import boxcox\n"
      ],
      "metadata": {
        "id": "GQ_3cXTQBAxi"
      },
      "execution_count": null,
      "outputs": []
    },
    {
      "cell_type": "code",
      "source": [
        "transformed_data, lambda_value = boxcox(df['road_width'])\n",
        "\n",
        "# Replace the original column with the transformed data in the DataFrame\n",
        "df['transformed_road_width'] = transformed_data\n",
        "\n",
        "# Display the lambda value determined by the transformation\n",
        "print(f\"Lambda value for Box-Cox transformation: {lambda_value}\")"
      ],
      "metadata": {
        "colab": {
          "base_uri": "https://localhost:8080/"
        },
        "id": "HA1W3WUrBlA2",
        "outputId": "b04665d9-4cd0-4fec-ca59-4cc2e2565614"
      },
      "execution_count": null,
      "outputs": [
        {
          "output_type": "stream",
          "name": "stdout",
          "text": [
            "Lambda value for Box-Cox transformation: 0.7647265963295188\n"
          ]
        }
      ]
    },
    {
      "cell_type": "code",
      "source": [
        "# Apply Box-Cox transformation to 'road_width' column using the lambda value\n",
        "transformed_data = boxcox(df['road_width'], lmbda=0.4449452757228693)\n",
        "\n",
        "# Assign the transformed data back to the DataFrame\n",
        "df['transformed_road_width'] = transformed_data\n",
        "\n",
        "# Plot histogram and Q-Q plot to visualize the transformation\n",
        "plt.figure(figsize=(12, 4))"
      ],
      "metadata": {
        "colab": {
          "base_uri": "https://localhost:8080/",
          "height": 52
        },
        "id": "iBr7NftPDcf_",
        "outputId": "e957f7df-09fd-4145-aae6-4b68ba5cc145"
      },
      "execution_count": null,
      "outputs": [
        {
          "output_type": "execute_result",
          "data": {
            "text/plain": [
              "<Figure size 1200x400 with 0 Axes>"
            ]
          },
          "metadata": {},
          "execution_count": 47
        },
        {
          "output_type": "display_data",
          "data": {
            "text/plain": [
              "<Figure size 1200x400 with 0 Axes>"
            ]
          },
          "metadata": {}
        }
      ]
    },
    {
      "cell_type": "code",
      "source": [
        "plt.subplot(1, 2, 1)\n",
        "sb.histplot(transformed_data, kde=True, color='skyblue')\n",
        "plt.title('Histogram of Transformed Road Width')\n",
        "plt.xlabel('Transformed Road Width')\n",
        "plt.ylabel('Frequency')"
      ],
      "metadata": {
        "colab": {
          "base_uri": "https://localhost:8080/",
          "height": 489
        },
        "id": "3plfKiqtDk6z",
        "outputId": "7764f37e-e164-4d99-86c1-6278128ae943"
      },
      "execution_count": null,
      "outputs": [
        {
          "output_type": "execute_result",
          "data": {
            "text/plain": [
              "Text(0, 0.5, 'Frequency')"
            ]
          },
          "metadata": {},
          "execution_count": 48
        },
        {
          "output_type": "display_data",
          "data": {
            "text/plain": [
              "<Figure size 640x480 with 1 Axes>"
            ],
            "image/png": "[encoded data removed]"
          },
          "metadata": {}
        }
      ]
    },
    {
      "cell_type": "code",
      "source": [
        "shapiro_test_stat, shapiro_p_value = shapiro(df['transformed_road_width'])\n",
        "print(f\"Shapiro-Wilk Test - Test Statistic: {shapiro_test_stat}, p-value: {shapiro_p_value}\")\n",
        "\n",
        "# D'Agostino and Pearson's test for normality\n",
        "k2_stat, k2_p_value = normaltest(df['transformed_road_width'])\n",
        "print(f\"D'Agostino and Pearson's Test - Test Statistic: {k2_stat}, p-value: {k2_p_value}\")"
      ],
      "metadata": {
        "colab": {
          "base_uri": "https://localhost:8080/"
        },
        "id": "YrMecKDbFILn",
        "outputId": "0ee07423-d84f-423e-815b-0cbf27ea5295"
      },
      "execution_count": null,
      "outputs": [
        {
          "output_type": "stream",
          "name": "stdout",
          "text": [
            "Shapiro-Wilk Test - Test Statistic: 0.9609277844429016, p-value: 0.00010735456453403458\n",
            "D'Agostino and Pearson's Test - Test Statistic: 32.99643967989073, p-value: 6.837764864300142e-08\n"
          ]
        }
      ]
    },
    {
      "cell_type": "markdown",
      "source": [
        "**Correlation between dependent and independent attributes**"
      ],
      "metadata": {
        "id": "w_IpBiqbgbfW"
      }
    },
    {
      "cell_type": "code",
      "source": [
        "independent_variables = df[['road_width', 'School', 'Rumble_Strips', 'Weather']]\n",
        "\n",
        "dependent_variable = df['Traffic_Density']\n",
        "\n",
        "correlation_coefficients = independent_variables.corrwith(dependent_variable)\n",
        "\n",
        "print(\"Correlation Coefficients:\")\n",
        "print(correlation_coefficients)\n"
      ],
      "metadata": {
        "colab": {
          "base_uri": "https://localhost:8080/"
        },
        "id": "YrikWN5XYM2z",
        "outputId": "3d241349-d249-4fdf-869c-850241c5160a"
      },
      "execution_count": null,
      "outputs": [
        {
          "output_type": "stream",
          "name": "stdout",
          "text": [
            "Correlation Coefficients:\n",
            "road_width       0.188233\n",
            "School          -0.038384\n",
            "Rumble_Strips   -0.003963\n",
            "dtype: float64\n"
          ]
        },
        {
          "output_type": "stream",
          "name": "stderr",
          "text": [
            "<ipython-input-50-16dd5546adeb>:5: FutureWarning: The default value of numeric_only in DataFrame.corrwith is deprecated. In a future version, it will default to False. Select only valid columns or specify the value of numeric_only to silence this warning.\n",
            "  correlation_coefficients = independent_variables.corrwith(dependent_variable)\n"
          ]
        }
      ]
    },
    {
      "cell_type": "markdown",
      "source": [
        "The positive correlation coefficient (0.188233) between 'Road_Width' and 'Traffic_Density' suggests a weak positive linear relationship.\n",
        "\n",
        "As 'Road_Width' increases, there might be a slight tendency for 'Traffic_Density' to increase. However, the correlation is not strong, indicating other factors likely influence traffic density more significantly.\n",
        "\n",
        "Negative Correlation indicates an extremely weak correlation."
      ],
      "metadata": {
        "id": "K1wN2MwchU91"
      }
    },
    {
      "cell_type": "markdown",
      "source": [
        "**Regression**"
      ],
      "metadata": {
        "id": "uPVRBRjdjOvV"
      }
    },
    {
      "cell_type": "code",
      "source": [
        "from sklearn.model_selection import train_test_split\n",
        "from sklearn.linear_model import LinearRegression\n",
        "from sklearn.metrics import mean_squared_error, r2_score"
      ],
      "metadata": {
        "id": "tY8A32UGj8A0"
      },
      "execution_count": null,
      "outputs": []
    },
    {
      "cell_type": "code",
      "source": [
        "X = df[['road_width']]\n",
        "y = df['Traffic_Density']\n",
        "\n",
        "X_train, X_test, y_train, y_test = train_test_split(X, y, test_size=0.2, random_state=42)\n",
        "\n",
        "# linear regression model\n",
        "model = LinearRegression()\n",
        "model.fit(X_train, y_train)\n",
        "\n",
        "# Predict on the test set (if split)\n",
        "y_pred = model.predict(X_test)\n",
        "\n",
        "# Evaluate the model (if split)\n",
        "print(\"Mean Squared Error:\", mean_squared_error(y_test, y_pred))\n",
        "print(\"R-squared:\", r2_score(y_test, y_pred)**2)"
      ],
      "metadata": {
        "colab": {
          "base_uri": "https://localhost:8080/"
        },
        "id": "8d6y5dtUjVln",
        "outputId": "17134446-9a61-4ad2-d24d-3f30ec56f130"
      },
      "execution_count": null,
      "outputs": [
        {
          "output_type": "stream",
          "name": "stdout",
          "text": [
            "Mean Squared Error: 1.0308862285645024\n",
            "R-squared: 0.00037721947434912685\n"
          ]
        }
      ]
    },
    {
      "cell_type": "markdown",
      "source": [
        "<h1>Testing</h1>"
      ],
      "metadata": {
        "id": "5zax-rPMCM4T"
      }
    },
    {
      "cell_type": "markdown",
      "source": [
        "<h3>for single variable z test</h3>"
      ],
      "metadata": {
        "id": "6aN3SScLCoin"
      }
    },
    {
      "cell_type": "code",
      "source": [
        "from statsmodels.stats.weightstats import ztest as ztest\n",
        "\n",
        "print(\"H0:There is no significant difference between sample mean and given mean.\")\n",
        "print(\"H1:There is significant difference between samples. \")\n",
        "\n",
        "group1=df['road_width']\n",
        "print(\"-----------------\")\n",
        "print(\"Width of Road:\")\n",
        "print(group1.describe())\n",
        "print('-----------------')\n",
        "z_stat1,p_value1=ztest(group1,value=100)\n",
        "\n",
        "z_alpha=0.05\n",
        "if p_value1<z_alpha:\n",
        "    print(\"Reject the null hypothesis: There is a significant difference between the means.\")\n",
        "else:\n",
        "    print(\"Accept the null hypothesis: There is no significant difference between the sample mean and given mean.\")"
      ],
      "metadata": {
        "colab": {
          "base_uri": "https://localhost:8080/"
        },
        "id": "IZJzxtVQCTJD",
        "outputId": "b2f3866d-34b7-4648-f5bb-d67e630a944a"
      },
      "execution_count": null,
      "outputs": [
        {
          "output_type": "stream",
          "name": "stdout",
          "text": [
            "H0:There is no significant difference between sample mean and given mean.\n",
            "H1:There is significant difference between samples. \n",
            "-----------------\n",
            "Width of Road:\n",
            "count    170.000000\n",
            "mean      31.594118\n",
            "std        4.377859\n",
            "min       24.000000\n",
            "25%       28.000000\n",
            "50%       32.000000\n",
            "75%       35.000000\n",
            "max       40.000000\n",
            "Name: road_width, dtype: float64\n",
            "-----------------\n",
            "Reject the null hypothesis: There is a significant difference between the means.\n"
          ]
        }
      ]
    },
    {
      "cell_type": "markdown",
      "source": [
        "<h3>for 2 variable z test</h3>"
      ],
      "metadata": {
        "id": "H_o-EnMICv46"
      }
    },
    {
      "cell_type": "code",
      "source": [
        "print(\"H0:There is no significant difference between means.\")\n",
        "print(\"H1:There is significant difference between means. \")\n",
        "# Convert categorical variables to numerical values\n",
        "df['Traffic_Density_numeric'] = df['Traffic_Density'].astype('category').cat.codes\n",
        "df['TIME_numeric'] = df['TIME'].astype('category').cat.codes\n",
        "\n",
        "# Perform Z-test on the numerical versions\n",
        "z_stat, p_value = ztest(df['Traffic_Density_numeric'], df['TIME_numeric'])\n",
        "# group1=df['Traffic_Density']\n",
        "# group2=df['TIME']\n",
        "# z_stat,p_value=ztest(group1,group2)\n",
        "\n",
        "z_alpha=0.05\n",
        "\n",
        "if p_value<z_alpha:\n",
        "    print(\"Reject the null hypothesis: There is a significant difference between the means.\")\n",
        "else:\n",
        "    print(\"Accept the null hypothesis: There is no significant difference between the means.\")"
      ],
      "metadata": {
        "colab": {
          "base_uri": "https://localhost:8080/"
        },
        "id": "KRPVU5FGCnIK",
        "outputId": "662f3bca-1f2a-4fc2-d577-1f55ba6e24a3"
      },
      "execution_count": null,
      "outputs": [
        {
          "output_type": "stream",
          "name": "stdout",
          "text": [
            "H0:There is no significant difference between means.\n",
            "H1:There is significant difference between means. \n",
            "Reject the null hypothesis: There is a significant difference between the means.\n"
          ]
        }
      ]
    },
    {
      "cell_type": "markdown",
      "source": [
        "for single variable t test"
      ],
      "metadata": {
        "id": "3MA-FuYGC9J4"
      }
    },
    {
      "cell_type": "code",
      "source": [
        "from scipy import stats\n",
        "t_stat,pt_value=stats.ttest_1samp(df['dry_wet'],10)\n",
        "\n",
        "t_alpha=0.05\n",
        "if pt_value<t_alpha:\n",
        "    print(\"Reject the null hypothesis: There is a significant difference between the means.\")\n",
        "else:\n",
        "    print(\"Accept the null hypothesis: There is no significant difference between the means.\")"
      ],
      "metadata": {
        "colab": {
          "base_uri": "https://localhost:8080/"
        },
        "id": "zw3BcshoC8v1",
        "outputId": "c8165a6d-5579-493f-ab94-b048cb6ad3f6"
      },
      "execution_count": null,
      "outputs": [
        {
          "output_type": "stream",
          "name": "stdout",
          "text": [
            "Reject the null hypothesis: There is a significant difference between the means.\n"
          ]
        }
      ]
    },
    {
      "cell_type": "markdown",
      "source": [
        "for 2 variable t test"
      ],
      "metadata": {
        "id": "nf9wTuTEDLT0"
      }
    },
    {
      "cell_type": "code",
      "source": [
        "print(\"2 sample t-test to compare the traffic density with the condition of the dry_wet condtions of the road .\")\n",
        "\n",
        "t_stat,pt1_value=stats.ttest_ind(df['Traffic_Density'],df['dry_wet'])\n",
        "t_alpha=0.05\n",
        "print(pt1_value)\n",
        "if pt_value<t_alpha:\n",
        "    print(\"Reject the null hypothesis: There is a significant difference between the means.\")\n",
        "else:\n",
        "    print(\"Accept the null hypothesis: There is no significant difference between the means.\")"
      ],
      "metadata": {
        "colab": {
          "base_uri": "https://localhost:8080/"
        },
        "id": "-cNUkhd9DSOZ",
        "outputId": "775f6dad-4937-412b-e5b6-af44ec7a088e"
      },
      "execution_count": null,
      "outputs": [
        {
          "output_type": "stream",
          "name": "stdout",
          "text": [
            "2 sample t-test to compare the traffic density with the condition of the dry_wet condtions of the road .\n",
            "5.955320195122439e-95\n",
            "Reject the null hypothesis: There is a significant difference between the means.\n"
          ]
        }
      ]
    },
    {
      "cell_type": "code",
      "source": [
        "print(\"2 sample t-test to compare the traffic density with the presence of intersection.\")\n",
        "\n",
        "t_stat,pt1_value=stats.ttest_ind(df['Traffic_Density'],df['Intersect_Rd'])\n",
        "t_alpha=0.05\n",
        "print(pt1_value)\n",
        "if pt_value<t_alpha:\n",
        "    print(\"Reject the null hypothesis: There is a significant difference between the means.\")\n",
        "else:\n",
        "    print(\"Accept the null hypothesis: There is no significant difference between the means.\")"
      ],
      "metadata": {
        "colab": {
          "base_uri": "https://localhost:8080/"
        },
        "id": "bfhSI4fgJyPh",
        "outputId": "4bc73f57-84d7-4148-8866-a05e8995cd5e"
      },
      "execution_count": null,
      "outputs": [
        {
          "output_type": "stream",
          "name": "stdout",
          "text": [
            "2 sample t-test to compare the traffic density with the presence of intersection.\n",
            "5.955320195122439e-95\n",
            "Reject the null hypothesis: There is a significant difference between the means.\n"
          ]
        }
      ]
    },
    {
      "cell_type": "markdown",
      "source": [
        "<h3>ANNOVA test</h3>"
      ],
      "metadata": {
        "id": "Iy4VQ-kjLy-m"
      }
    },
    {
      "cell_type": "code",
      "source": [
        "from scipy.stats import f_oneway\n",
        "\n",
        "# Assuming 'CategoryVariable' is your categorical variable with more than two levels\n",
        "categories = df['Place'].unique()\n",
        "\n",
        "# Create a list to store numerical data for each category\n",
        "groups = [df[df['Place'] == category]['Traffic_Density'] for category in categories]\n",
        "\n",
        "# Perform ANOVA\n",
        "f_stat, p_value = f_oneway(*groups)\n",
        "\n",
        "print(f_stat,p_value)\n",
        "alpha = 0.05\n",
        "if p_value < alpha:\n",
        "    print(\"Reject the null hypothesis: There is a significant difference between at least two group means.\")\n",
        "else:\n",
        "    print(\"Accept the null hypothesis: There is no significant difference between group means.\")\n"
      ],
      "metadata": {
        "colab": {
          "base_uri": "https://localhost:8080/"
        },
        "id": "-I_QN94DJx-B",
        "outputId": "47471c81-33cb-41a1-81b2-5b850093e7d6"
      },
      "execution_count": null,
      "outputs": [
        {
          "output_type": "stream",
          "name": "stdout",
          "text": [
            "Accept the null hypothesis: There is no significant difference between group means.\n"
          ]
        }
      ]
    },
    {
      "cell_type": "code",
      "source": [
        "import statsmodels.api as sm\n",
        "from statsmodels.formula.api import ols\n",
        "from statsmodels.stats.anova import anova_lm\n",
        "\n",
        "# Assuming 'Traffic_Density', 'Place', 'dry_wet', and 'road_width' are the actual column names in your DataFrame\n",
        "formula = 'Traffic_Density ~ C(Place) + C(dry_wet) + C(Intersect_Rd) + C(Place):C(dry_wet) + C(Place):C(Intersect_Rd) + C(dry_wet):C(Intersect_Rd)'\n",
        "model = ols(formula, data=df).fit()\n",
        "anova_table = anova_lm(model)\n",
        "\n",
        "print(\"Two-Way ANOVA Results:\")\n",
        "print(anova_table)\n",
        "\n",
        "# Extracting p-values for each factor and interaction\n",
        "p_values = {}\n",
        "for factor in anova_table.index[:-1]:\n",
        "    p_values[factor] = anova_table['PR(>F)'][factor]\n",
        "\n",
        "# Setting significance level\n",
        "alpha = 0.05\n",
        "\n",
        "# Interpret the results for each factor and interaction\n",
        "for factor, p_value in p_values.items():\n",
        "    if p_value < alpha:\n",
        "        print(f\"Reject the null hypothesis for {factor}: There is a significant difference between the means.\")\n",
        "    else:\n",
        "        print(f\"Fail to reject the null hypothesis for {factor}: There is no significant difference between the means.\")\n"
      ],
      "metadata": {
        "colab": {
          "base_uri": "https://localhost:8080/"
        },
        "id": "aHRMLclnJxt5",
        "outputId": "2dbc247f-1592-4061-d689-a8150699a2c5"
      },
      "execution_count": null,
      "outputs": [
        {
          "output_type": "stream",
          "name": "stdout",
          "text": [
            "Two-Way ANOVA Results:\n",
            "                              df      sum_sq   mean_sq         F    PR(>F)\n",
            "C(Place)                    54.0   81.102661  1.501901  1.241241  0.177794\n",
            "C(dry_wet)                   1.0    0.008021  0.008021  0.006629  0.935282\n",
            "C(Intersect_Rd)              1.0    2.679549  2.679549  2.214503  0.140031\n",
            "C(Place):C(dry_wet)         54.0   66.474660  1.231012  1.017365  0.462796\n",
            "C(Place):C(Intersect_Rd)    54.0   60.950629  1.128715  0.932823  0.604277\n",
            "C(dry_wet):C(Intersect_Rd)   1.0    0.097032  0.097032  0.080191  0.777654\n",
            "Residual                    95.0  114.950000  1.210000       NaN       NaN\n",
            "Fail to reject the null hypothesis for C(Place): There is no significant difference between the means.\n",
            "Fail to reject the null hypothesis for C(dry_wet): There is no significant difference between the means.\n",
            "Fail to reject the null hypothesis for C(Intersect_Rd): There is no significant difference between the means.\n",
            "Fail to reject the null hypothesis for C(Place):C(dry_wet): There is no significant difference between the means.\n",
            "Fail to reject the null hypothesis for C(Place):C(Intersect_Rd): There is no significant difference between the means.\n",
            "Fail to reject the null hypothesis for C(dry_wet):C(Intersect_Rd): There is no significant difference between the means.\n"
          ]
        }
      ]
    },
    {
      "cell_type": "markdown",
      "source": [
        "Model for prediction"
      ],
      "metadata": {
        "id": "Ybeb2qb6RIjd"
      }
    },
    {
      "cell_type": "markdown",
      "source": [
        "RandomForestClassifier model"
      ],
      "metadata": {
        "id": "iG4799nla3g4"
      }
    },
    {
      "cell_type": "code",
      "source": [
        "import pandas as pd\n",
        "from sklearn.model_selection import train_test_split\n",
        "from sklearn.linear_model import LinearRegression\n",
        "from sklearn.metrics import mean_squared_error, r2_score\n",
        "from sklearn.model_selection import cross_val_score\n",
        "import matplotlib.pyplot as plt\n",
        "\n",
        "import pandas as pd\n",
        "from sklearn.model_selection import train_test_split\n",
        "from sklearn.ensemble import RandomForestClassifier  # Add this import statement\n",
        "from sklearn.metrics import accuracy_score, classification_report, confusion_matrix\n",
        "from sklearn.model_selection import cross_val_score"
      ],
      "metadata": {
        "id": "RT7JiLx0RICR"
      },
      "execution_count": null,
      "outputs": []
    },
    {
      "cell_type": "markdown",
      "source": [
        "Model 1:Linear Regression."
      ],
      "metadata": {
        "id": "do2x-iRfbCtg"
      }
    },
    {
      "cell_type": "code",
      "source": [
        "df.fillna('Yes', inplace=True)\n",
        "\n",
        "\n",
        "\n",
        "# Convert 'Yes' to 1 and 'No' to 0 for categorical columns\n",
        "categorical_columns = ['Intersect_Rd','School']\n",
        "\n",
        "for column in categorical_columns:\n",
        "    df[column] = df[column].map({'Yes': 1,'No':0})\n",
        "\n",
        "# Define features (X) and target variable (y)\n",
        "features = ['Intersect_Rd', 'road_width', 'Latitude', 'Longitude', 'School']\n",
        "\n",
        "X = df[features]\n",
        "y = df['Traffic_Density']  # Assuming 'Traffic_Density' is your target variable\n",
        "\n",
        "# Split the data into training and testing sets\n",
        "X_train, X_test, y_train, y_test = train_test_split(X, y, test_size=0.2, random_state=42)\n",
        "\n",
        "# Create a Linear Regression model\n",
        "model = LinearRegression()\n",
        "\n",
        "# Fit the model on the training data\n",
        "model.fit(X_train, y_train)\n",
        "\n",
        "# Predictions on the testing data\n",
        "predictions = model.predict(X_test)\n",
        "\n",
        "# Model evaluation\n",
        "mse = mean_squared_error(y_test, predictions)\n",
        "r2 = r2_score(y_test, predictions)\n",
        "\n",
        "# Print results\n",
        "print(f'Mean Squared Error: {mse}, R-squared: {r2}')\n",
        "\n",
        "# Validate the model using cross-validation\n",
        "cv_scores = cross_val_score(model, X, y, cv=5, scoring='r2')\n",
        "print(f'Cross-Validation R-squared Scores: {cv_scores}')\n",
        "\n",
        "print(\"Thus the Traffic density is predicted using Intersect_Rd,road_width,Latitude,Longitude,School\")\n"
      ],
      "metadata": {
        "colab": {
          "base_uri": "https://localhost:8080/"
        },
        "id": "Xz47M04EYdIw",
        "outputId": "94adebbb-9bfb-42ca-e17a-888234b87b96"
      },
      "execution_count": null,
      "outputs": [
        {
          "output_type": "stream",
          "name": "stdout",
          "text": [
            "Mean Squared Error: 1.002607614401695, R-squared: 0.00854199978754544\n",
            "Cross-Validation R-squared Scores: [-4.07851978 -2.24963963 -4.29563667 -1.33885395  0.        ]\n",
            "Thus the Traffic density is predicted using Intersect_Rd,road_width,Latitude,Longitude,School\n"
          ]
        }
      ]
    },
    {
      "cell_type": "code",
      "source": [
        "# Load your dataset (replace 'your_data.csv' with your actual file)\n",
        "# df = pd.read_csv('your_data.csv')\n",
        "\n",
        "# Define features (X) and target variable (y)\n",
        "features = ['Intersect_Rd', 'road_width', 'Latitude', 'Longitude',\n",
        "            'School','dry_wet']\n",
        "\n",
        "X = df[features]\n",
        "y = df['Traffic_Density']  # Assuming 'Traffic_Density' is your target variable\n",
        "\n",
        "# Split the data into training and testing sets\n",
        "X_train, X_test, y_train, y_test = train_test_split(X, y, test_size=0.2, random_state=42)\n",
        "\n",
        "# Create a Random Forest Classifier model\n",
        "model = RandomForestClassifier(random_state=42)\n",
        "\n",
        "# Fit the model on the training data\n",
        "model.fit(X_train, y_train)\n",
        "\n",
        "# Predictions on the testing data\n",
        "predictions = model.predict(X_test)\n",
        "\n",
        "# Model evaluation\n",
        "accuracy = accuracy_score(y_test, predictions)\n",
        "conf_matrix = confusion_matrix(y_test, predictions)\n",
        "classification_rep = classification_report(y_test, predictions)\n",
        "\n",
        "# Print results\n",
        "print(f'Accuracy: {accuracy}')\n",
        "print(f'Confusion Matrix:\\n{conf_matrix}')\n",
        "print(f'Classification Report:\\n{classification_rep}')\n",
        "\n",
        "# Validate the model using cross-validation\n",
        "cv_scores = cross_val_score(model, X, y, cv=5, scoring='accuracy')\n",
        "print(f'Cross-Validation Accuracy Scores: {cv_scores}')"
      ],
      "metadata": {
        "colab": {
          "base_uri": "https://localhost:8080/"
        },
        "id": "1IrS2zmxRHnV",
        "outputId": "12445018-2e4b-4c7e-f71b-adce01011d63"
      },
      "execution_count": null,
      "outputs": [
        {
          "output_type": "stream",
          "name": "stdout",
          "text": [
            "Accuracy: 0.5294117647058824\n",
            "Confusion Matrix:\n",
            "[[ 1  0  0  0  0]\n",
            " [ 0  1  0  1  1]\n",
            " [ 0  0 12  0  5]\n",
            " [ 1  0  1  2  2]\n",
            " [ 1  0  4  0  2]]\n",
            "Classification Report:\n",
            "              precision    recall  f1-score   support\n",
            "\n",
            "           1       0.33      1.00      0.50         1\n",
            "           2       1.00      0.33      0.50         3\n",
            "           3       0.71      0.71      0.71        17\n",
            "           4       0.67      0.33      0.44         6\n",
            "           5       0.20      0.29      0.24         7\n",
            "\n",
            "    accuracy                           0.53        34\n",
            "   macro avg       0.58      0.53      0.48        34\n",
            "weighted avg       0.61      0.53      0.54        34\n",
            "\n",
            "Cross-Validation Accuracy Scores: [0.23529412 0.14705882 0.29411765 0.35294118 0.47058824]\n"
          ]
        }
      ]
    }
  ],
  "metadata": {
    "kernelspec": {
      "display_name": "Python 3",
      "language": "python",
      "name": "python3"
    },
    "language_info": {
      "codemirror_mode": {
        "name": "ipython",
        "version": 3
      },
      "file_extension": ".py",
      "mimetype": "text/x-python",
      "name": "python",
      "nbconvert_exporter": "python",
      "pygments_lexer": "ipython3",
      "version": "3.10.6"
    },
    "colab": {
      "provenance": []
    }
  },
  "nbformat": 4,
  "nbformat_minor": 0
}